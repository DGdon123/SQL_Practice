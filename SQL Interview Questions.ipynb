{
 "cells": [
  {
   "cell_type": "code",
   "execution_count": 0,
   "metadata": {
    "application/vnd.databricks.v1+cell": {
     "cellMetadata": {
      "byteLimit": 2048000,
      "implicitDf": true,
      "rowLimit": 10000
     },
     "inputWidgets": {},
     "nuid": "92ea51d2-528e-4f23-a678-1c40287100f5",
     "showTitle": false,
     "tableResultSettingsMap": {},
     "title": ""
    }
   },
   "outputs": [
    {
     "output_type": "display_data",
     "data": {
      "text/html": [
       "<style scoped>\n",
       "  .table-result-container {\n",
       "    max-height: 300px;\n",
       "    overflow: auto;\n",
       "  }\n",
       "  table, th, td {\n",
       "    border: 1px solid black;\n",
       "    border-collapse: collapse;\n",
       "  }\n",
       "  th, td {\n",
       "    padding: 5px;\n",
       "  }\n",
       "  th {\n",
       "    text-align: left;\n",
       "  }\n",
       "</style><div class='table-result-container'><table class='table-result'><thead style='background-color: white'><tr></tr></thead><tbody></tbody></table></div>"
      ]
     },
     "metadata": {
      "application/vnd.databricks.v1+output": {
       "addedWidgets": {},
       "aggData": [],
       "aggError": "",
       "aggOverflow": false,
       "aggSchema": [],
       "aggSeriesLimitReached": false,
       "aggType": "",
       "arguments": {},
       "columnCustomDisplayInfos": {},
       "data": [],
       "datasetInfos": [],
       "dbfsResultPath": null,
       "isJsonSchema": true,
       "metadata": {},
       "overflow": false,
       "plotOptions": {
        "customPlotOptions": {},
        "displayType": "table",
        "pivotAggregation": null,
        "pivotColumns": null,
        "xColumns": null,
        "yColumns": null
       },
       "removedWidgets": [],
       "schema": [],
       "type": "table"
      }
     },
     "output_type": "display_data"
    }
   ],
   "source": [
    "%sql\n",
    "CREATE TABLE swiggy_orders (\n",
    "    orderid INT ,\n",
    "    custid INT,\n",
    "    city VARCHAR(50),\n",
    "    del_partner VARCHAR(50),\n",
    "    order_time TIMESTAMP, -- Use TIMESTAMP instead of DATETIME\n",
    "    deliver_time TIMESTAMP, -- Use TIMESTAMP instead of DATETIME\n",
    "    predicted_time INT -- Predicted delivery time in minutes\n",
    ");\n"
   ]
  },
  {
   "cell_type": "code",
   "execution_count": 0,
   "metadata": {
    "application/vnd.databricks.v1+cell": {
     "cellMetadata": {
      "byteLimit": 2048000,
      "implicitDf": true,
      "rowLimit": 10000
     },
     "inputWidgets": {},
     "nuid": "ed953dae-50fc-4782-9fc2-ad75a009e833",
     "showTitle": false,
     "tableResultSettingsMap": {},
     "title": ""
    }
   },
   "outputs": [
    {
     "output_type": "display_data",
     "data": {
      "text/html": [
       "<style scoped>\n",
       "  .table-result-container {\n",
       "    max-height: 300px;\n",
       "    overflow: auto;\n",
       "  }\n",
       "  table, th, td {\n",
       "    border: 1px solid black;\n",
       "    border-collapse: collapse;\n",
       "  }\n",
       "  th, td {\n",
       "    padding: 5px;\n",
       "  }\n",
       "  th {\n",
       "    text-align: left;\n",
       "  }\n",
       "</style><div class='table-result-container'><table class='table-result'><thead style='background-color: white'><tr><th>num_affected_rows</th><th>num_inserted_rows</th></tr></thead><tbody><tr><td>12</td><td>12</td></tr></tbody></table></div>"
      ]
     },
     "metadata": {
      "application/vnd.databricks.v1+output": {
       "addedWidgets": {},
       "aggData": [],
       "aggError": "",
       "aggOverflow": false,
       "aggSchema": [],
       "aggSeriesLimitReached": false,
       "aggType": "",
       "arguments": {},
       "columnCustomDisplayInfos": {},
       "data": [
        [
         12,
         12
        ]
       ],
       "datasetInfos": [],
       "dbfsResultPath": null,
       "isJsonSchema": true,
       "metadata": {},
       "overflow": false,
       "plotOptions": {
        "customPlotOptions": {},
        "displayType": "table",
        "pivotAggregation": null,
        "pivotColumns": null,
        "xColumns": null,
        "yColumns": null
       },
       "removedWidgets": [],
       "schema": [
        {
         "metadata": "{}",
         "name": "num_affected_rows",
         "type": "\"long\""
        },
        {
         "metadata": "{}",
         "name": "num_inserted_rows",
         "type": "\"long\""
        }
       ],
       "type": "table"
      }
     },
     "output_type": "display_data"
    }
   ],
   "source": [
    "%sql\n",
    "INSERT INTO swiggy_orders (orderid, custid, city, del_partner, order_time, deliver_time, predicted_time)\n",
    "VALUES\n",
    "-- Delivery Partner A\n",
    "(1, 101, 'Mumbai', 'Partner A', '2024-12-18 10:00:00', '2024-12-18 11:30:00', 60),\n",
    "(2, 102, 'Delhi', 'Partner A', '2024-12-18 09:00:00', '2024-12-18 10:00:00', 45),\n",
    "(3, 103, 'Pune', 'Partner A', '2024-12-18 15:00:00', '2024-12-18 15:30:00', 30),\n",
    "(4, 104, 'Mumbai', 'Partner A', '2024-12-18 14:00:00', '2024-12-18 14:50:00', 45),\n",
    "\n",
    "-- Delivery Partner B\n",
    "(5, 105, 'Bangalore', 'Partner B', '2024-12-18 08:00:00', '2024-12-18 08:29:00', 30),\n",
    "(6, 106, 'Hyderabad', 'Partner B', '2024-12-18 13:00:00', '2024-12-18 14:00:00', 70),\n",
    "(7, 107, 'Kolkata', 'Partner B', '2024-12-18 10:00:00', '2024-12-18 10:40:00', 45),\n",
    "(8, 108, 'Delhi', 'Partner B', '2024-12-18 18:00:00', '2024-12-18 18:30:00', 40),\n",
    "\n",
    "-- Delivery Partner C\n",
    "(9, 109, 'Chennai', 'Partner C', '2024-12-18 07:00:00', '2024-12-18 07:40:00', 30),\n",
    "(10, 110, 'Mumbai', 'Partner C', '2024-12-18 12:00:00', '2024-12-18 13:00:00', 50),\n",
    "(11, 111, 'Delhi', 'Partner C', '2024-12-18 09:00:00', '2024-12-18 09:35:00', 30),\n",
    "(12, 112, 'Hyderabad', 'Partner C', '2024-12-18 16:00:00', '2024-12-18 16:45:00', 30);"
   ]
  },
  {
   "cell_type": "code",
   "execution_count": 0,
   "metadata": {
    "application/vnd.databricks.v1+cell": {
     "cellMetadata": {
      "byteLimit": 2048000,
      "implicitDf": true,
      "rowLimit": 10000
     },
     "inputWidgets": {},
     "nuid": "1120aae8-f364-47b5-8745-2997b2799676",
     "showTitle": false,
     "tableResultSettingsMap": {},
     "title": ""
    }
   },
   "outputs": [
    {
     "output_type": "display_data",
     "data": {
      "text/html": [
       "<style scoped>\n",
       "  .table-result-container {\n",
       "    max-height: 300px;\n",
       "    overflow: auto;\n",
       "  }\n",
       "  table, th, td {\n",
       "    border: 1px solid black;\n",
       "    border-collapse: collapse;\n",
       "  }\n",
       "  th, td {\n",
       "    padding: 5px;\n",
       "  }\n",
       "  th {\n",
       "    text-align: left;\n",
       "  }\n",
       "</style><div class='table-result-container'><table class='table-result'><thead style='background-color: white'><tr><th>orderid</th><th>custid</th><th>city</th><th>del_partner</th><th>order_time</th><th>deliver_time</th><th>predicted_time</th></tr></thead><tbody><tr><td>1</td><td>101</td><td>Mumbai</td><td>Partner A</td><td>2024-12-18T10:00:00.000+0000</td><td>2024-12-18T11:30:00.000+0000</td><td>60</td></tr><tr><td>2</td><td>102</td><td>Delhi</td><td>Partner A</td><td>2024-12-18T09:00:00.000+0000</td><td>2024-12-18T10:00:00.000+0000</td><td>45</td></tr><tr><td>3</td><td>103</td><td>Pune</td><td>Partner A</td><td>2024-12-18T15:00:00.000+0000</td><td>2024-12-18T15:30:00.000+0000</td><td>30</td></tr><tr><td>4</td><td>104</td><td>Mumbai</td><td>Partner A</td><td>2024-12-18T14:00:00.000+0000</td><td>2024-12-18T14:50:00.000+0000</td><td>45</td></tr><tr><td>5</td><td>105</td><td>Bangalore</td><td>Partner B</td><td>2024-12-18T08:00:00.000+0000</td><td>2024-12-18T08:29:00.000+0000</td><td>30</td></tr><tr><td>6</td><td>106</td><td>Hyderabad</td><td>Partner B</td><td>2024-12-18T13:00:00.000+0000</td><td>2024-12-18T14:00:00.000+0000</td><td>70</td></tr><tr><td>7</td><td>107</td><td>Kolkata</td><td>Partner B</td><td>2024-12-18T10:00:00.000+0000</td><td>2024-12-18T10:40:00.000+0000</td><td>45</td></tr><tr><td>8</td><td>108</td><td>Delhi</td><td>Partner B</td><td>2024-12-18T18:00:00.000+0000</td><td>2024-12-18T18:30:00.000+0000</td><td>40</td></tr><tr><td>9</td><td>109</td><td>Chennai</td><td>Partner C</td><td>2024-12-18T07:00:00.000+0000</td><td>2024-12-18T07:40:00.000+0000</td><td>30</td></tr><tr><td>10</td><td>110</td><td>Mumbai</td><td>Partner C</td><td>2024-12-18T12:00:00.000+0000</td><td>2024-12-18T13:00:00.000+0000</td><td>50</td></tr><tr><td>11</td><td>111</td><td>Delhi</td><td>Partner C</td><td>2024-12-18T09:00:00.000+0000</td><td>2024-12-18T09:35:00.000+0000</td><td>30</td></tr><tr><td>12</td><td>112</td><td>Hyderabad</td><td>Partner C</td><td>2024-12-18T16:00:00.000+0000</td><td>2024-12-18T16:45:00.000+0000</td><td>30</td></tr></tbody></table></div>"
      ]
     },
     "metadata": {
      "application/vnd.databricks.v1+output": {
       "addedWidgets": {},
       "aggData": [],
       "aggError": "",
       "aggOverflow": false,
       "aggSchema": [],
       "aggSeriesLimitReached": false,
       "aggType": "",
       "arguments": {},
       "columnCustomDisplayInfos": {},
       "data": [
        [
         1,
         101,
         "Mumbai",
         "Partner A",
         "2024-12-18T10:00:00.000+0000",
         "2024-12-18T11:30:00.000+0000",
         60
        ],
        [
         2,
         102,
         "Delhi",
         "Partner A",
         "2024-12-18T09:00:00.000+0000",
         "2024-12-18T10:00:00.000+0000",
         45
        ],
        [
         3,
         103,
         "Pune",
         "Partner A",
         "2024-12-18T15:00:00.000+0000",
         "2024-12-18T15:30:00.000+0000",
         30
        ],
        [
         4,
         104,
         "Mumbai",
         "Partner A",
         "2024-12-18T14:00:00.000+0000",
         "2024-12-18T14:50:00.000+0000",
         45
        ],
        [
         5,
         105,
         "Bangalore",
         "Partner B",
         "2024-12-18T08:00:00.000+0000",
         "2024-12-18T08:29:00.000+0000",
         30
        ],
        [
         6,
         106,
         "Hyderabad",
         "Partner B",
         "2024-12-18T13:00:00.000+0000",
         "2024-12-18T14:00:00.000+0000",
         70
        ],
        [
         7,
         107,
         "Kolkata",
         "Partner B",
         "2024-12-18T10:00:00.000+0000",
         "2024-12-18T10:40:00.000+0000",
         45
        ],
        [
         8,
         108,
         "Delhi",
         "Partner B",
         "2024-12-18T18:00:00.000+0000",
         "2024-12-18T18:30:00.000+0000",
         40
        ],
        [
         9,
         109,
         "Chennai",
         "Partner C",
         "2024-12-18T07:00:00.000+0000",
         "2024-12-18T07:40:00.000+0000",
         30
        ],
        [
         10,
         110,
         "Mumbai",
         "Partner C",
         "2024-12-18T12:00:00.000+0000",
         "2024-12-18T13:00:00.000+0000",
         50
        ],
        [
         11,
         111,
         "Delhi",
         "Partner C",
         "2024-12-18T09:00:00.000+0000",
         "2024-12-18T09:35:00.000+0000",
         30
        ],
        [
         12,
         112,
         "Hyderabad",
         "Partner C",
         "2024-12-18T16:00:00.000+0000",
         "2024-12-18T16:45:00.000+0000",
         30
        ]
       ],
       "datasetInfos": [],
       "dbfsResultPath": null,
       "isJsonSchema": true,
       "metadata": {},
       "overflow": false,
       "plotOptions": {
        "customPlotOptions": {},
        "displayType": "table",
        "pivotAggregation": null,
        "pivotColumns": null,
        "xColumns": null,
        "yColumns": null
       },
       "removedWidgets": [],
       "schema": [
        {
         "metadata": "{}",
         "name": "orderid",
         "type": "\"integer\""
        },
        {
         "metadata": "{}",
         "name": "custid",
         "type": "\"integer\""
        },
        {
         "metadata": "{\"__CHAR_VARCHAR_TYPE_STRING\":\"varchar(50)\"}",
         "name": "city",
         "type": "\"string\""
        },
        {
         "metadata": "{\"__CHAR_VARCHAR_TYPE_STRING\":\"varchar(50)\"}",
         "name": "del_partner",
         "type": "\"string\""
        },
        {
         "metadata": "{}",
         "name": "order_time",
         "type": "\"timestamp\""
        },
        {
         "metadata": "{}",
         "name": "deliver_time",
         "type": "\"timestamp\""
        },
        {
         "metadata": "{}",
         "name": "predicted_time",
         "type": "\"integer\""
        }
       ],
       "type": "table"
      }
     },
     "output_type": "display_data"
    }
   ],
   "source": [
    "%sql\n",
    "select * from swiggy_orders\n"
   ]
  },
  {
   "cell_type": "code",
   "execution_count": 0,
   "metadata": {
    "application/vnd.databricks.v1+cell": {
     "cellMetadata": {
      "byteLimit": 2048000,
      "implicitDf": true,
      "rowLimit": 10000
     },
     "inputWidgets": {},
     "nuid": "ac9bc0cf-db7a-4f9d-bc5d-7cdea62ac328",
     "showTitle": false,
     "tableResultSettingsMap": {},
     "title": ""
    }
   },
   "outputs": [
    {
     "output_type": "display_data",
     "data": {
      "text/html": [
       "<style scoped>\n",
       "  .table-result-container {\n",
       "    max-height: 300px;\n",
       "    overflow: auto;\n",
       "  }\n",
       "  table, th, td {\n",
       "    border: 1px solid black;\n",
       "    border-collapse: collapse;\n",
       "  }\n",
       "  th, td {\n",
       "    padding: 5px;\n",
       "  }\n",
       "  th {\n",
       "    text-align: left;\n",
       "  }\n",
       "</style><div class='table-result-container'><table class='table-result'><thead style='background-color: white'><tr><th>del_partner</th><th>delayed_orders</th></tr></thead><tbody><tr><td>Partner B</td><td>0</td></tr><tr><td>Partner C</td><td>4</td></tr><tr><td>Partner A</td><td>3</td></tr></tbody></table></div>"
      ]
     },
     "metadata": {
      "application/vnd.databricks.v1+output": {
       "addedWidgets": {},
       "aggData": [],
       "aggError": "",
       "aggOverflow": false,
       "aggSchema": [],
       "aggSeriesLimitReached": false,
       "aggType": "",
       "arguments": {},
       "columnCustomDisplayInfos": {},
       "data": [
        [
         "Partner B",
         0
        ],
        [
         "Partner C",
         4
        ],
        [
         "Partner A",
         3
        ]
       ],
       "datasetInfos": [],
       "dbfsResultPath": null,
       "isJsonSchema": true,
       "metadata": {},
       "overflow": false,
       "plotOptions": {
        "customPlotOptions": {},
        "displayType": "table",
        "pivotAggregation": null,
        "pivotColumns": null,
        "xColumns": null,
        "yColumns": null
       },
       "removedWidgets": [],
       "schema": [
        {
         "metadata": "{\"__CHAR_VARCHAR_TYPE_STRING\":\"varchar(50)\"}",
         "name": "del_partner",
         "type": "\"string\""
        },
        {
         "metadata": "{}",
         "name": "delayed_orders",
         "type": "\"long\""
        }
       ],
       "type": "table"
      }
     },
     "output_type": "display_data"
    }
   ],
   "source": [
    "%sql\n",
    "select a.del_partner,\n",
    "\n",
    "case when b.delayed_orders is null then 0 else b.delayed_orders end as delayed_orders \n",
    "\n",
    "from \n",
    "\n",
    "(select distinct del_partner from swiggy_orders) a left join\n",
    "\n",
    "(\n",
    "\n",
    "select del_partner, count(*) as delayed_orders from swiggy_orders\n",
    "\n",
    "where timestampdiff(MINUTE, order_time,deliver_time) > predicted_time\n",
    "\n",
    "group by 1) b on a.del_partner=b.del_partner;"
   ]
  },
  {
   "cell_type": "code",
   "execution_count": 0,
   "metadata": {
    "application/vnd.databricks.v1+cell": {
     "cellMetadata": {
      "byteLimit": 2048000,
      "implicitDf": true,
      "rowLimit": 10000
     },
     "inputWidgets": {},
     "nuid": "5a8d7758-ab3b-4f5e-a557-155b48042e06",
     "showTitle": false,
     "tableResultSettingsMap": {},
     "title": ""
    }
   },
   "outputs": [
    {
     "output_type": "display_data",
     "data": {
      "text/html": [
       "<style scoped>\n",
       "  .table-result-container {\n",
       "    max-height: 300px;\n",
       "    overflow: auto;\n",
       "  }\n",
       "  table, th, td {\n",
       "    border: 1px solid black;\n",
       "    border-collapse: collapse;\n",
       "  }\n",
       "  th, td {\n",
       "    padding: 5px;\n",
       "  }\n",
       "  th {\n",
       "    text-align: left;\n",
       "  }\n",
       "</style><div class='table-result-container'><table class='table-result'><thead style='background-color: white'><tr></tr></thead><tbody></tbody></table></div>"
      ]
     },
     "metadata": {
      "application/vnd.databricks.v1+output": {
       "addedWidgets": {},
       "aggData": [],
       "aggError": "",
       "aggOverflow": false,
       "aggSchema": [],
       "aggSeriesLimitReached": false,
       "aggType": "",
       "arguments": {},
       "columnCustomDisplayInfos": {},
       "data": [],
       "datasetInfos": [],
       "dbfsResultPath": null,
       "isJsonSchema": true,
       "metadata": {},
       "overflow": false,
       "plotOptions": {
        "customPlotOptions": {},
        "displayType": "table",
        "pivotAggregation": null,
        "pivotColumns": null,
        "xColumns": null,
        "yColumns": null
       },
       "removedWidgets": [],
       "schema": [],
       "type": "table"
      }
     },
     "output_type": "display_data"
    }
   ],
   "source": [
    "%sql\n",
    "CREATE TABLE sales_data (\n",
    "    order_date DATE,\n",
    "    customer_id INT,\n",
    "    store_id INT,\n",
    "    product_id INT,\n",
    "    sale INT,\n",
    "    order_value INT\n",
    ");\n"
   ]
  },
  {
   "cell_type": "code",
   "execution_count": 0,
   "metadata": {
    "application/vnd.databricks.v1+cell": {
     "cellMetadata": {
      "byteLimit": 2048000,
      "implicitDf": true,
      "rowLimit": 10000
     },
     "inputWidgets": {},
     "nuid": "212c7212-f614-428c-b12c-305ad48928f8",
     "showTitle": false,
     "tableResultSettingsMap": {},
     "title": ""
    }
   },
   "outputs": [
    {
     "output_type": "display_data",
     "data": {
      "text/html": [
       "<style scoped>\n",
       "  .table-result-container {\n",
       "    max-height: 300px;\n",
       "    overflow: auto;\n",
       "  }\n",
       "  table, th, td {\n",
       "    border: 1px solid black;\n",
       "    border-collapse: collapse;\n",
       "  }\n",
       "  th, td {\n",
       "    padding: 5px;\n",
       "  }\n",
       "  th {\n",
       "    text-align: left;\n",
       "  }\n",
       "</style><div class='table-result-container'><table class='table-result'><thead style='background-color: white'><tr><th>num_affected_rows</th><th>num_inserted_rows</th></tr></thead><tbody><tr><td>15</td><td>15</td></tr></tbody></table></div>"
      ]
     },
     "metadata": {
      "application/vnd.databricks.v1+output": {
       "addedWidgets": {},
       "aggData": [],
       "aggError": "",
       "aggOverflow": false,
       "aggSchema": [],
       "aggSeriesLimitReached": false,
       "aggType": "",
       "arguments": {},
       "columnCustomDisplayInfos": {},
       "data": [
        [
         15,
         15
        ]
       ],
       "datasetInfos": [],
       "dbfsResultPath": null,
       "isJsonSchema": true,
       "metadata": {},
       "overflow": false,
       "plotOptions": {
        "customPlotOptions": {},
        "displayType": "table",
        "pivotAggregation": null,
        "pivotColumns": null,
        "xColumns": null,
        "yColumns": null
       },
       "removedWidgets": [],
       "schema": [
        {
         "metadata": "{}",
         "name": "num_affected_rows",
         "type": "\"long\""
        },
        {
         "metadata": "{}",
         "name": "num_inserted_rows",
         "type": "\"long\""
        }
       ],
       "type": "table"
      }
     },
     "output_type": "display_data"
    }
   ],
   "source": [
    "%sql\n",
    "INSERT INTO sales_data (order_date, customer_id, store_id, product_id, sale, order_value)\n",
    "VALUES\n",
    "('2024-12-01', 109, 1, 3, 2, 700),\n",
    "('2024-12-02', 110, 2, 2, 1, 300),\n",
    "('2024-12-03', 111, 1, 5, 3, 900),\n",
    "('2024-12-04', 112, 3, 1, 2, 500),\n",
    "('2024-12-05', 113, 3, 4, 4, 1200), \n",
    "('2024-12-05', 114, 3, 4, 2, 400),\n",
    "('2024-12-05', 115, 3, 4, 1, 300),\n",
    "('2024-12-01', 101, 1, 4, 2, 500),\n",
    "('2024-12-01', 102, 1, 4, 1, 300),\n",
    "('2024-12-02', 103, 2, 4, 3, 900),\n",
    "('2024-12-02', 104, 2, 4, 1, 400),\n",
    "('2024-12-03', 105, 1, 4, 2, 600),\n",
    "('2024-12-03', 106, 1, 4, 3, 800),\n",
    "('2024-12-04', 107, 3, 4, 1, 200),\n",
    "('2024-12-04', 108, 3, 4, 2, 500);"
   ]
  },
  {
   "cell_type": "code",
   "execution_count": 0,
   "metadata": {
    "application/vnd.databricks.v1+cell": {
     "cellMetadata": {
      "byteLimit": 2048000,
      "implicitDf": true,
      "rowLimit": 10000
     },
     "inputWidgets": {},
     "nuid": "05e8cd44-22af-4c3d-b4f0-91fc96e14807",
     "showTitle": false,
     "tableResultSettingsMap": {},
     "title": ""
    }
   },
   "outputs": [
    {
     "output_type": "display_data",
     "data": {
      "text/html": [
       "<style scoped>\n",
       "  .table-result-container {\n",
       "    max-height: 300px;\n",
       "    overflow: auto;\n",
       "  }\n",
       "  table, th, td {\n",
       "    border: 1px solid black;\n",
       "    border-collapse: collapse;\n",
       "  }\n",
       "  th, td {\n",
       "    padding: 5px;\n",
       "  }\n",
       "  th {\n",
       "    text-align: left;\n",
       "  }\n",
       "</style><div class='table-result-container'><table class='table-result'><thead style='background-color: white'><tr><th>order_date</th><th>customer_id</th><th>store_id</th><th>product_id</th><th>sale</th><th>order_value</th></tr></thead><tbody><tr><td>2024-12-01</td><td>109</td><td>1</td><td>3</td><td>2</td><td>700</td></tr><tr><td>2024-12-02</td><td>110</td><td>2</td><td>2</td><td>1</td><td>300</td></tr><tr><td>2024-12-03</td><td>111</td><td>1</td><td>5</td><td>3</td><td>900</td></tr><tr><td>2024-12-04</td><td>112</td><td>3</td><td>1</td><td>2</td><td>500</td></tr><tr><td>2024-12-05</td><td>113</td><td>3</td><td>4</td><td>4</td><td>1200</td></tr><tr><td>2024-12-05</td><td>114</td><td>3</td><td>4</td><td>2</td><td>400</td></tr><tr><td>2024-12-05</td><td>115</td><td>3</td><td>4</td><td>1</td><td>300</td></tr><tr><td>2024-12-01</td><td>101</td><td>1</td><td>4</td><td>2</td><td>500</td></tr><tr><td>2024-12-01</td><td>102</td><td>1</td><td>4</td><td>1</td><td>300</td></tr><tr><td>2024-12-02</td><td>103</td><td>2</td><td>4</td><td>3</td><td>900</td></tr><tr><td>2024-12-02</td><td>104</td><td>2</td><td>4</td><td>1</td><td>400</td></tr><tr><td>2024-12-03</td><td>105</td><td>1</td><td>4</td><td>2</td><td>600</td></tr><tr><td>2024-12-03</td><td>106</td><td>1</td><td>4</td><td>3</td><td>800</td></tr><tr><td>2024-12-04</td><td>107</td><td>3</td><td>4</td><td>1</td><td>200</td></tr><tr><td>2024-12-04</td><td>108</td><td>3</td><td>4</td><td>2</td><td>500</td></tr></tbody></table></div>"
      ]
     },
     "metadata": {
      "application/vnd.databricks.v1+output": {
       "addedWidgets": {},
       "aggData": [],
       "aggError": "",
       "aggOverflow": false,
       "aggSchema": [],
       "aggSeriesLimitReached": false,
       "aggType": "",
       "arguments": {},
       "columnCustomDisplayInfos": {},
       "data": [
        [
         "2024-12-01",
         109,
         1,
         3,
         2,
         700
        ],
        [
         "2024-12-02",
         110,
         2,
         2,
         1,
         300
        ],
        [
         "2024-12-03",
         111,
         1,
         5,
         3,
         900
        ],
        [
         "2024-12-04",
         112,
         3,
         1,
         2,
         500
        ],
        [
         "2024-12-05",
         113,
         3,
         4,
         4,
         1200
        ],
        [
         "2024-12-05",
         114,
         3,
         4,
         2,
         400
        ],
        [
         "2024-12-05",
         115,
         3,
         4,
         1,
         300
        ],
        [
         "2024-12-01",
         101,
         1,
         4,
         2,
         500
        ],
        [
         "2024-12-01",
         102,
         1,
         4,
         1,
         300
        ],
        [
         "2024-12-02",
         103,
         2,
         4,
         3,
         900
        ],
        [
         "2024-12-02",
         104,
         2,
         4,
         1,
         400
        ],
        [
         "2024-12-03",
         105,
         1,
         4,
         2,
         600
        ],
        [
         "2024-12-03",
         106,
         1,
         4,
         3,
         800
        ],
        [
         "2024-12-04",
         107,
         3,
         4,
         1,
         200
        ],
        [
         "2024-12-04",
         108,
         3,
         4,
         2,
         500
        ]
       ],
       "datasetInfos": [],
       "dbfsResultPath": null,
       "isJsonSchema": true,
       "metadata": {},
       "overflow": false,
       "plotOptions": {
        "customPlotOptions": {},
        "displayType": "table",
        "pivotAggregation": null,
        "pivotColumns": null,
        "xColumns": null,
        "yColumns": null
       },
       "removedWidgets": [],
       "schema": [
        {
         "metadata": "{}",
         "name": "order_date",
         "type": "\"date\""
        },
        {
         "metadata": "{}",
         "name": "customer_id",
         "type": "\"integer\""
        },
        {
         "metadata": "{}",
         "name": "store_id",
         "type": "\"integer\""
        },
        {
         "metadata": "{}",
         "name": "product_id",
         "type": "\"integer\""
        },
        {
         "metadata": "{}",
         "name": "sale",
         "type": "\"integer\""
        },
        {
         "metadata": "{}",
         "name": "order_value",
         "type": "\"integer\""
        }
       ],
       "type": "table"
      }
     },
     "output_type": "display_data"
    }
   ],
   "source": [
    "%sql\n",
    "select * from sales_data"
   ]
  },
  {
   "cell_type": "code",
   "execution_count": 0,
   "metadata": {
    "application/vnd.databricks.v1+cell": {
     "cellMetadata": {
      "byteLimit": 2048000,
      "implicitDf": true,
      "rowLimit": 10000
     },
     "inputWidgets": {},
     "nuid": "64d08bc1-e9c3-4ffa-bb6b-1f7050d550e0",
     "showTitle": false,
     "tableResultSettingsMap": {},
     "title": ""
    }
   },
   "outputs": [
    {
     "output_type": "display_data",
     "data": {
      "text/html": [
       "<style scoped>\n",
       "  .table-result-container {\n",
       "    max-height: 300px;\n",
       "    overflow: auto;\n",
       "  }\n",
       "  table, th, td {\n",
       "    border: 1px solid black;\n",
       "    border-collapse: collapse;\n",
       "  }\n",
       "  th, td {\n",
       "    padding: 5px;\n",
       "  }\n",
       "  th {\n",
       "    text-align: left;\n",
       "  }\n",
       "</style><div class='table-result-container'><table class='table-result'><thead style='background-color: white'><tr><th>order_date</th><th>customer_id</th><th>store_id</th><th>product_id</th><th>sale</th><th>order_value</th><th>rank</th></tr></thead><tbody><tr><td>2024-12-03</td><td>106</td><td>1</td><td>4</td><td>3</td><td>800</td><td>3</td></tr></tbody></table></div>"
      ]
     },
     "metadata": {
      "application/vnd.databricks.v1+output": {
       "addedWidgets": {},
       "aggData": [],
       "aggError": "",
       "aggOverflow": false,
       "aggSchema": [],
       "aggSeriesLimitReached": false,
       "aggType": "",
       "arguments": {},
       "columnCustomDisplayInfos": {},
       "data": [
        [
         "2024-12-03",
         106,
         1,
         4,
         3,
         800,
         3
        ]
       ],
       "datasetInfos": [],
       "dbfsResultPath": null,
       "isJsonSchema": true,
       "metadata": {},
       "overflow": false,
       "plotOptions": {
        "customPlotOptions": {},
        "displayType": "table",
        "pivotAggregation": null,
        "pivotColumns": null,
        "xColumns": null,
        "yColumns": null
       },
       "removedWidgets": [],
       "schema": [
        {
         "metadata": "{}",
         "name": "order_date",
         "type": "\"date\""
        },
        {
         "metadata": "{}",
         "name": "customer_id",
         "type": "\"integer\""
        },
        {
         "metadata": "{}",
         "name": "store_id",
         "type": "\"integer\""
        },
        {
         "metadata": "{}",
         "name": "product_id",
         "type": "\"integer\""
        },
        {
         "metadata": "{}",
         "name": "sale",
         "type": "\"integer\""
        },
        {
         "metadata": "{}",
         "name": "order_value",
         "type": "\"integer\""
        },
        {
         "metadata": "{}",
         "name": "rank",
         "type": "\"integer\""
        }
       ],
       "type": "table"
      }
     },
     "output_type": "display_data"
    }
   ],
   "source": [
    "%sql\n",
    "with cte as (select *, dense_rank()over(partition by product_id order by order_value desc) as rank from sales_data)\n",
    "select * from cte\n",
    "where rank = 3 and product_id = 4;"
   ]
  }
 ],
 "metadata": {
  "application/vnd.databricks.v1+notebook": {
   "computePreferences": null,
   "dashboards": [],
   "environmentMetadata": {
    "base_environment": "",
    "client": "1"
   },
   "language": "python",
   "notebookMetadata": {
    "mostRecentlyExecutedCommandWithImplicitDF": {
     "commandId": 1437281966527071,
     "dataframes": [
      "_sqldf"
     ]
    },
    "pythonIndentUnit": 4
   },
   "notebookName": "SQL Interview Questions",
   "widgets": {}
  }
 },
 "nbformat": 4,
 "nbformat_minor": 0
}
