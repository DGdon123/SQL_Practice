{
 "cells": [
  {
   "cell_type": "code",
   "execution_count": 0,
   "metadata": {
    "application/vnd.databricks.v1+cell": {
     "cellMetadata": {
      "byteLimit": 2048000,
      "rowLimit": 10000
     },
     "inputWidgets": {},
     "nuid": "8bccb435-f272-4107-acca-c77d95f21d90",
     "showTitle": false,
     "tableResultSettingsMap": {},
     "title": ""
    }
   },
   "outputs": [
    {
     "output_type": "stream",
     "name": "stdout",
     "output_type": "stream",
     "text": [
      "+----------+-------+-------+---------+------------+-----+----------+\n|order_date| region|manager|sales_man|        item|units|unit_price|\n+----------+-------+-------+---------+------------+-----+----------+\n|2018-01-23|Central|Hermann|   Shelli|Home Theater|   50|       500|\n|2018-02-09|Central|Hermann|     Luis|  Television|   36|      1198|\n|2018-02-26|Central|Timothy|    David|  Cell Phone|   27|       225|\n|2018-04-18|Central| Martha|   Steven|  Television|   75|      1198|\n|2018-05-05|Central|Hermann|     Luis|  Television|   90|      1198|\n|2018-06-25|Central|Hermann|    Sigal|  Television|   90|      1198|\n|2018-09-01|Central|Douglas|     John|        Desk|    2|       125|\n|2018-10-05|Central|Hermann|    Sigal|Home Theater|   28|       500|\n|2018-11-25|Central|Hermann|   Shelli| Video Games|   96|        59|\n|2018-12-12|Central|Douglas|     John|  Television|   67|      1198|\n|2019-01-15|Central|Timothy|    David|Home Theater|   46|       500|\n|2019-02-01|Central|Douglas|     John|Home Theater|   87|       500|\n|2019-03-24|Central|Hermann|     Luis| Video Games|   50|        59|\n|2019-04-10|Central| Martha|   Steven|  Television|   66|      1198|\n|2019-05-14|Central|Timothy|    David|  Television|   53|      1198|\n|2019-05-31|Central|Timothy|    David|Home Theater|   80|       500|\n|2019-06-17|Central|Hermann|   Shelli|        Desk|    5|       125|\n|2019-07-21|Central|Hermann|    Sigal| Video Games|   55|        59|\n|2019-08-07|Central|Hermann|   Shelli| Video Games|   42|        59|\n|2019-09-10|Central|Timothy|    David|  Television|    7|      1198|\n+----------+-------+-------+---------+------------+-----+----------+\nonly showing top 20 rows\n\n"
     ]
    }
   ],
   "source": [
    "df1 = spark.read.format(\"csv\").option(\"header\", \"true\").load(\"dbfs:/FileStore/shared_uploads/vatshalbph@gmail.com/sales_data.csv\")\n",
    "df1.show()"
   ]
  },
  {
   "cell_type": "code",
   "execution_count": 0,
   "metadata": {
    "application/vnd.databricks.v1+cell": {
     "cellMetadata": {
      "byteLimit": 2048000,
      "rowLimit": 10000
     },
     "inputWidgets": {},
     "nuid": "32838e5b-2b06-44a7-b8f7-068344683eb8",
     "showTitle": false,
     "tableResultSettingsMap": {},
     "title": ""
    }
   },
   "outputs": [],
   "source": [
    "df1.createOrReplaceTempView(\"sales_data\")\n"
   ]
  },
  {
   "cell_type": "code",
   "execution_count": 0,
   "metadata": {
    "application/vnd.databricks.v1+cell": {
     "cellMetadata": {
      "byteLimit": 2048000,
      "implicitDf": true,
      "rowLimit": 10000
     },
     "inputWidgets": {},
     "nuid": "76f95a74-f3a2-4a18-b5b5-19e70beb0fde",
     "showTitle": false,
     "tableResultSettingsMap": {},
     "title": ""
    }
   },
   "outputs": [
    {
     "output_type": "display_data",
     "data": {
      "text/html": [
       "<style scoped>\n",
       "  .table-result-container {\n",
       "    max-height: 300px;\n",
       "    overflow: auto;\n",
       "  }\n",
       "  table, th, td {\n",
       "    border: 1px solid black;\n",
       "    border-collapse: collapse;\n",
       "  }\n",
       "  th, td {\n",
       "    padding: 5px;\n",
       "  }\n",
       "  th {\n",
       "    text-align: left;\n",
       "  }\n",
       "</style><div class='table-result-container'><table class='table-result'><thead style='background-color: white'><tr><th>order_date</th><th>region</th><th>manager</th><th>sales_man</th><th>item</th><th>units</th><th>unit_price</th></tr></thead><tbody><tr><td>2018-01-23</td><td>Central</td><td>Hermann</td><td>Shelli</td><td>Home Theater</td><td>50</td><td>500</td></tr><tr><td>2018-02-09</td><td>Central</td><td>Hermann</td><td>Luis</td><td>Television</td><td>36</td><td>1198</td></tr><tr><td>2018-02-26</td><td>Central</td><td>Timothy</td><td>David</td><td>Cell Phone</td><td>27</td><td>225</td></tr><tr><td>2018-04-18</td><td>Central</td><td>Martha</td><td>Steven</td><td>Television</td><td>75</td><td>1198</td></tr><tr><td>2018-05-05</td><td>Central</td><td>Hermann</td><td>Luis</td><td>Television</td><td>90</td><td>1198</td></tr><tr><td>2018-06-25</td><td>Central</td><td>Hermann</td><td>Sigal</td><td>Television</td><td>90</td><td>1198</td></tr><tr><td>2018-09-01</td><td>Central</td><td>Douglas</td><td>John</td><td>Desk</td><td>2</td><td>125</td></tr><tr><td>2018-10-05</td><td>Central</td><td>Hermann</td><td>Sigal</td><td>Home Theater</td><td>28</td><td>500</td></tr><tr><td>2018-11-25</td><td>Central</td><td>Hermann</td><td>Shelli</td><td>Video Games</td><td>96</td><td>59</td></tr><tr><td>2018-12-12</td><td>Central</td><td>Douglas</td><td>John</td><td>Television</td><td>67</td><td>1198</td></tr><tr><td>2019-01-15</td><td>Central</td><td>Timothy</td><td>David</td><td>Home Theater</td><td>46</td><td>500</td></tr><tr><td>2019-02-01</td><td>Central</td><td>Douglas</td><td>John</td><td>Home Theater</td><td>87</td><td>500</td></tr><tr><td>2019-03-24</td><td>Central</td><td>Hermann</td><td>Luis</td><td>Video Games</td><td>50</td><td>59</td></tr><tr><td>2019-04-10</td><td>Central</td><td>Martha</td><td>Steven</td><td>Television</td><td>66</td><td>1198</td></tr><tr><td>2019-05-14</td><td>Central</td><td>Timothy</td><td>David</td><td>Television</td><td>53</td><td>1198</td></tr><tr><td>2019-05-31</td><td>Central</td><td>Timothy</td><td>David</td><td>Home Theater</td><td>80</td><td>500</td></tr><tr><td>2019-06-17</td><td>Central</td><td>Hermann</td><td>Shelli</td><td>Desk</td><td>5</td><td>125</td></tr><tr><td>2019-07-21</td><td>Central</td><td>Hermann</td><td>Sigal</td><td>Video Games</td><td>55</td><td>59</td></tr><tr><td>2019-08-07</td><td>Central</td><td>Hermann</td><td>Shelli</td><td>Video Games</td><td>42</td><td>59</td></tr><tr><td>2019-09-10</td><td>Central</td><td>Timothy</td><td>David</td><td>Television</td><td>7</td><td>1198</td></tr><tr><td>2019-10-31</td><td>Central</td><td>Martha</td><td>Steven</td><td>Television</td><td>14</td><td>1198</td></tr><tr><td>2019-11-17</td><td>Central</td><td>Hermann</td><td>Luis</td><td>Home Theater</td><td>11</td><td>500</td></tr><tr><td>2019-12-04</td><td>Central</td><td>Hermann</td><td>Luis</td><td>Home Theater</td><td>94</td><td>500</td></tr><tr><td>2019-12-21</td><td>Central</td><td>Martha</td><td>Steven</td><td>Home Theater</td><td>28</td><td>500</td></tr><tr><td>2018-01-06</td><td>East</td><td>Martha</td><td>Alexander</td><td>Television</td><td>95</td><td>1198</td></tr><tr><td>2018-04-01</td><td>East</td><td>Martha</td><td>Alexander</td><td>Home Theater</td><td>60</td><td>500</td></tr><tr><td>2018-06-08</td><td>East</td><td>Martha</td><td>Alexander</td><td>Home Theater</td><td>60</td><td>500</td></tr><tr><td>2018-07-12</td><td>East</td><td>Martha</td><td>Diana</td><td>Home Theater</td><td>29</td><td>500</td></tr><tr><td>2018-07-29</td><td>East</td><td>Douglas</td><td>Karen</td><td>Home Theater</td><td>81</td><td>500</td></tr><tr><td>2018-08-15</td><td>East</td><td>Martha</td><td>Alexander</td><td>Television</td><td>35</td><td>1198</td></tr><tr><td>2018-09-18</td><td>East</td><td>Martha</td><td>Alexander</td><td>Video Games</td><td>16</td><td>59</td></tr><tr><td>2018-10-22</td><td>East</td><td>Martha</td><td>Alexander</td><td>Cell Phone</td><td>64</td><td>225</td></tr><tr><td>2018-11-08</td><td>East</td><td>Douglas</td><td>Karen</td><td>Cell Phone</td><td>15</td><td>225</td></tr><tr><td>2018-12-29</td><td>East</td><td>Douglas</td><td>Karen</td><td>Video Games</td><td>74</td><td>59</td></tr><tr><td>2019-02-18</td><td>East</td><td>Martha</td><td>Alexander</td><td>Home Theater</td><td>4</td><td>500</td></tr><tr><td>2019-04-27</td><td>East</td><td>Martha</td><td>Diana</td><td>Cell Phone</td><td>96</td><td>225</td></tr><tr><td>2019-07-04</td><td>East</td><td>Martha</td><td>Alexander</td><td>Video Games</td><td>62</td><td>59</td></tr><tr><td>2018-03-15</td><td>West</td><td>Timothy</td><td>Stephen</td><td>Television</td><td>56</td><td>1198</td></tr><tr><td>2018-05-22</td><td>West</td><td>Douglas</td><td>Michael</td><td>Television</td><td>32</td><td>1198</td></tr><tr><td>2019-03-07</td><td>West</td><td>Timothy</td><td>Stephen</td><td>Home Theater</td><td>7</td><td>500</td></tr><tr><td>2019-08-24</td><td>West</td><td>Timothy</td><td>Stephen</td><td>Desk</td><td>3</td><td>125</td></tr><tr><td>2019-09-27</td><td>West</td><td>Timothy</td><td>Stephen</td><td>Cell Phone</td><td>76</td><td>225</td></tr><tr><td>2019-10-14</td><td>West</td><td>Douglas</td><td>Michael</td><td>Home Theater</td><td>57</td><td>500</td></tr></tbody></table></div>"
      ]
     },
     "metadata": {
      "application/vnd.databricks.v1+output": {
       "addedWidgets": {},
       "aggData": [],
       "aggError": "",
       "aggOverflow": false,
       "aggSchema": [],
       "aggSeriesLimitReached": false,
       "aggType": "",
       "arguments": {},
       "columnCustomDisplayInfos": {},
       "data": [
        [
         "2018-01-23",
         "Central",
         "Hermann",
         "Shelli",
         "Home Theater",
         "50",
         "500"
        ],
        [
         "2018-02-09",
         "Central",
         "Hermann",
         "Luis",
         "Television",
         "36",
         "1198"
        ],
        [
         "2018-02-26",
         "Central",
         "Timothy",
         "David",
         "Cell Phone",
         "27",
         "225"
        ],
        [
         "2018-04-18",
         "Central",
         "Martha",
         "Steven",
         "Television",
         "75",
         "1198"
        ],
        [
         "2018-05-05",
         "Central",
         "Hermann",
         "Luis",
         "Television",
         "90",
         "1198"
        ],
        [
         "2018-06-25",
         "Central",
         "Hermann",
         "Sigal",
         "Television",
         "90",
         "1198"
        ],
        [
         "2018-09-01",
         "Central",
         "Douglas",
         "John",
         "Desk",
         "2",
         "125"
        ],
        [
         "2018-10-05",
         "Central",
         "Hermann",
         "Sigal",
         "Home Theater",
         "28",
         "500"
        ],
        [
         "2018-11-25",
         "Central",
         "Hermann",
         "Shelli",
         "Video Games",
         "96",
         "59"
        ],
        [
         "2018-12-12",
         "Central",
         "Douglas",
         "John",
         "Television",
         "67",
         "1198"
        ],
        [
         "2019-01-15",
         "Central",
         "Timothy",
         "David",
         "Home Theater",
         "46",
         "500"
        ],
        [
         "2019-02-01",
         "Central",
         "Douglas",
         "John",
         "Home Theater",
         "87",
         "500"
        ],
        [
         "2019-03-24",
         "Central",
         "Hermann",
         "Luis",
         "Video Games",
         "50",
         "59"
        ],
        [
         "2019-04-10",
         "Central",
         "Martha",
         "Steven",
         "Television",
         "66",
         "1198"
        ],
        [
         "2019-05-14",
         "Central",
         "Timothy",
         "David",
         "Television",
         "53",
         "1198"
        ],
        [
         "2019-05-31",
         "Central",
         "Timothy",
         "David",
         "Home Theater",
         "80",
         "500"
        ],
        [
         "2019-06-17",
         "Central",
         "Hermann",
         "Shelli",
         "Desk",
         "5",
         "125"
        ],
        [
         "2019-07-21",
         "Central",
         "Hermann",
         "Sigal",
         "Video Games",
         "55",
         "59"
        ],
        [
         "2019-08-07",
         "Central",
         "Hermann",
         "Shelli",
         "Video Games",
         "42",
         "59"
        ],
        [
         "2019-09-10",
         "Central",
         "Timothy",
         "David",
         "Television",
         "7",
         "1198"
        ],
        [
         "2019-10-31",
         "Central",
         "Martha",
         "Steven",
         "Television",
         "14",
         "1198"
        ],
        [
         "2019-11-17",
         "Central",
         "Hermann",
         "Luis",
         "Home Theater",
         "11",
         "500"
        ],
        [
         "2019-12-04",
         "Central",
         "Hermann",
         "Luis",
         "Home Theater",
         "94",
         "500"
        ],
        [
         "2019-12-21",
         "Central",
         "Martha",
         "Steven",
         "Home Theater",
         "28",
         "500"
        ],
        [
         "2018-01-06",
         "East",
         "Martha",
         "Alexander",
         "Television",
         "95",
         "1198"
        ],
        [
         "2018-04-01",
         "East",
         "Martha",
         "Alexander",
         "Home Theater",
         "60",
         "500"
        ],
        [
         "2018-06-08",
         "East",
         "Martha",
         "Alexander",
         "Home Theater",
         "60",
         "500"
        ],
        [
         "2018-07-12",
         "East",
         "Martha",
         "Diana",
         "Home Theater",
         "29",
         "500"
        ],
        [
         "2018-07-29",
         "East",
         "Douglas",
         "Karen",
         "Home Theater",
         "81",
         "500"
        ],
        [
         "2018-08-15",
         "East",
         "Martha",
         "Alexander",
         "Television",
         "35",
         "1198"
        ],
        [
         "2018-09-18",
         "East",
         "Martha",
         "Alexander",
         "Video Games",
         "16",
         "59"
        ],
        [
         "2018-10-22",
         "East",
         "Martha",
         "Alexander",
         "Cell Phone",
         "64",
         "225"
        ],
        [
         "2018-11-08",
         "East",
         "Douglas",
         "Karen",
         "Cell Phone",
         "15",
         "225"
        ],
        [
         "2018-12-29",
         "East",
         "Douglas",
         "Karen",
         "Video Games",
         "74",
         "59"
        ],
        [
         "2019-02-18",
         "East",
         "Martha",
         "Alexander",
         "Home Theater",
         "4",
         "500"
        ],
        [
         "2019-04-27",
         "East",
         "Martha",
         "Diana",
         "Cell Phone",
         "96",
         "225"
        ],
        [
         "2019-07-04",
         "East",
         "Martha",
         "Alexander",
         "Video Games",
         "62",
         "59"
        ],
        [
         "2018-03-15",
         "West",
         "Timothy",
         "Stephen",
         "Television",
         "56",
         "1198"
        ],
        [
         "2018-05-22",
         "West",
         "Douglas",
         "Michael",
         "Television",
         "32",
         "1198"
        ],
        [
         "2019-03-07",
         "West",
         "Timothy",
         "Stephen",
         "Home Theater",
         "7",
         "500"
        ],
        [
         "2019-08-24",
         "West",
         "Timothy",
         "Stephen",
         "Desk",
         "3",
         "125"
        ],
        [
         "2019-09-27",
         "West",
         "Timothy",
         "Stephen",
         "Cell Phone",
         "76",
         "225"
        ],
        [
         "2019-10-14",
         "West",
         "Douglas",
         "Michael",
         "Home Theater",
         "57",
         "500"
        ]
       ],
       "datasetInfos": [],
       "dbfsResultPath": null,
       "isJsonSchema": true,
       "metadata": {},
       "overflow": false,
       "plotOptions": {
        "customPlotOptions": {},
        "displayType": "table",
        "pivotAggregation": null,
        "pivotColumns": null,
        "xColumns": null,
        "yColumns": null
       },
       "removedWidgets": [],
       "schema": [
        {
         "metadata": "{}",
         "name": "order_date",
         "type": "\"string\""
        },
        {
         "metadata": "{}",
         "name": "region",
         "type": "\"string\""
        },
        {
         "metadata": "{}",
         "name": "manager",
         "type": "\"string\""
        },
        {
         "metadata": "{}",
         "name": "sales_man",
         "type": "\"string\""
        },
        {
         "metadata": "{}",
         "name": "item",
         "type": "\"string\""
        },
        {
         "metadata": "{}",
         "name": "units",
         "type": "\"string\""
        },
        {
         "metadata": "{}",
         "name": "unit_price",
         "type": "\"string\""
        }
       ],
       "type": "table"
      }
     },
     "output_type": "display_data"
    }
   ],
   "source": [
    "%sql\n",
    "select * from sales_data"
   ]
  },
  {
   "cell_type": "code",
   "execution_count": 0,
   "metadata": {
    "application/vnd.databricks.v1+cell": {
     "cellMetadata": {
      "byteLimit": 2048000,
      "implicitDf": true,
      "rowLimit": 10000
     },
     "inputWidgets": {},
     "nuid": "e3144c91-88e9-48d1-b9e5-f19fc01ade1d",
     "showTitle": false,
     "tableResultSettingsMap": {},
     "title": ""
    }
   },
   "outputs": [
    {
     "output_type": "display_data",
     "data": {
      "text/html": [
       "<style scoped>\n",
       "  .table-result-container {\n",
       "    max-height: 300px;\n",
       "    overflow: auto;\n",
       "  }\n",
       "  table, th, td {\n",
       "    border: 1px solid black;\n",
       "    border-collapse: collapse;\n",
       "  }\n",
       "  th, td {\n",
       "    padding: 5px;\n",
       "  }\n",
       "  th {\n",
       "    text-align: left;\n",
       "  }\n",
       "</style><div class='table-result-container'><table class='table-result'><thead style='background-color: white'><tr><th>order_date</th><th>region</th><th>manager</th><th>sales_man</th><th>item</th><th>units</th><th>unit_price</th><th>today</th></tr></thead><tbody><tr><td>2018-01-23</td><td>Central</td><td>Hermann</td><td>Shelli</td><td>Home Theater</td><td>50</td><td>500</td><td>2024-11-12</td></tr><tr><td>2018-02-09</td><td>Central</td><td>Hermann</td><td>Luis</td><td>Television</td><td>36</td><td>1198</td><td>2024-11-12</td></tr><tr><td>2018-02-26</td><td>Central</td><td>Timothy</td><td>David</td><td>Cell Phone</td><td>27</td><td>225</td><td>2024-11-12</td></tr><tr><td>2018-04-18</td><td>Central</td><td>Martha</td><td>Steven</td><td>Television</td><td>75</td><td>1198</td><td>2024-11-12</td></tr><tr><td>2018-05-05</td><td>Central</td><td>Hermann</td><td>Luis</td><td>Television</td><td>90</td><td>1198</td><td>2024-11-12</td></tr><tr><td>2018-06-25</td><td>Central</td><td>Hermann</td><td>Sigal</td><td>Television</td><td>90</td><td>1198</td><td>2024-11-12</td></tr><tr><td>2018-09-01</td><td>Central</td><td>Douglas</td><td>John</td><td>Desk</td><td>2</td><td>125</td><td>2024-11-12</td></tr><tr><td>2018-10-05</td><td>Central</td><td>Hermann</td><td>Sigal</td><td>Home Theater</td><td>28</td><td>500</td><td>2024-11-12</td></tr><tr><td>2018-11-25</td><td>Central</td><td>Hermann</td><td>Shelli</td><td>Video Games</td><td>96</td><td>59</td><td>2024-11-12</td></tr><tr><td>2018-12-12</td><td>Central</td><td>Douglas</td><td>John</td><td>Television</td><td>67</td><td>1198</td><td>2024-11-12</td></tr><tr><td>2019-01-15</td><td>Central</td><td>Timothy</td><td>David</td><td>Home Theater</td><td>46</td><td>500</td><td>2024-11-12</td></tr><tr><td>2019-02-01</td><td>Central</td><td>Douglas</td><td>John</td><td>Home Theater</td><td>87</td><td>500</td><td>2024-11-12</td></tr><tr><td>2019-03-24</td><td>Central</td><td>Hermann</td><td>Luis</td><td>Video Games</td><td>50</td><td>59</td><td>2024-11-12</td></tr><tr><td>2019-04-10</td><td>Central</td><td>Martha</td><td>Steven</td><td>Television</td><td>66</td><td>1198</td><td>2024-11-12</td></tr><tr><td>2019-05-14</td><td>Central</td><td>Timothy</td><td>David</td><td>Television</td><td>53</td><td>1198</td><td>2024-11-12</td></tr><tr><td>2019-05-31</td><td>Central</td><td>Timothy</td><td>David</td><td>Home Theater</td><td>80</td><td>500</td><td>2024-11-12</td></tr><tr><td>2019-06-17</td><td>Central</td><td>Hermann</td><td>Shelli</td><td>Desk</td><td>5</td><td>125</td><td>2024-11-12</td></tr><tr><td>2019-07-21</td><td>Central</td><td>Hermann</td><td>Sigal</td><td>Video Games</td><td>55</td><td>59</td><td>2024-11-12</td></tr><tr><td>2019-08-07</td><td>Central</td><td>Hermann</td><td>Shelli</td><td>Video Games</td><td>42</td><td>59</td><td>2024-11-12</td></tr><tr><td>2019-09-10</td><td>Central</td><td>Timothy</td><td>David</td><td>Television</td><td>7</td><td>1198</td><td>2024-11-12</td></tr><tr><td>2019-10-31</td><td>Central</td><td>Martha</td><td>Steven</td><td>Television</td><td>14</td><td>1198</td><td>2024-11-12</td></tr><tr><td>2019-11-17</td><td>Central</td><td>Hermann</td><td>Luis</td><td>Home Theater</td><td>11</td><td>500</td><td>2024-11-12</td></tr><tr><td>2019-12-04</td><td>Central</td><td>Hermann</td><td>Luis</td><td>Home Theater</td><td>94</td><td>500</td><td>2024-11-12</td></tr><tr><td>2019-12-21</td><td>Central</td><td>Martha</td><td>Steven</td><td>Home Theater</td><td>28</td><td>500</td><td>2024-11-12</td></tr><tr><td>2018-01-06</td><td>East</td><td>Martha</td><td>Alexander</td><td>Television</td><td>95</td><td>1198</td><td>2024-11-12</td></tr><tr><td>2018-04-01</td><td>East</td><td>Martha</td><td>Alexander</td><td>Home Theater</td><td>60</td><td>500</td><td>2024-11-12</td></tr><tr><td>2018-06-08</td><td>East</td><td>Martha</td><td>Alexander</td><td>Home Theater</td><td>60</td><td>500</td><td>2024-11-12</td></tr><tr><td>2018-07-12</td><td>East</td><td>Martha</td><td>Diana</td><td>Home Theater</td><td>29</td><td>500</td><td>2024-11-12</td></tr><tr><td>2018-07-29</td><td>East</td><td>Douglas</td><td>Karen</td><td>Home Theater</td><td>81</td><td>500</td><td>2024-11-12</td></tr><tr><td>2018-08-15</td><td>East</td><td>Martha</td><td>Alexander</td><td>Television</td><td>35</td><td>1198</td><td>2024-11-12</td></tr><tr><td>2018-09-18</td><td>East</td><td>Martha</td><td>Alexander</td><td>Video Games</td><td>16</td><td>59</td><td>2024-11-12</td></tr><tr><td>2018-10-22</td><td>East</td><td>Martha</td><td>Alexander</td><td>Cell Phone</td><td>64</td><td>225</td><td>2024-11-12</td></tr><tr><td>2018-11-08</td><td>East</td><td>Douglas</td><td>Karen</td><td>Cell Phone</td><td>15</td><td>225</td><td>2024-11-12</td></tr><tr><td>2018-12-29</td><td>East</td><td>Douglas</td><td>Karen</td><td>Video Games</td><td>74</td><td>59</td><td>2024-11-12</td></tr><tr><td>2019-02-18</td><td>East</td><td>Martha</td><td>Alexander</td><td>Home Theater</td><td>4</td><td>500</td><td>2024-11-12</td></tr><tr><td>2019-04-27</td><td>East</td><td>Martha</td><td>Diana</td><td>Cell Phone</td><td>96</td><td>225</td><td>2024-11-12</td></tr><tr><td>2019-07-04</td><td>East</td><td>Martha</td><td>Alexander</td><td>Video Games</td><td>62</td><td>59</td><td>2024-11-12</td></tr><tr><td>2018-03-15</td><td>West</td><td>Timothy</td><td>Stephen</td><td>Television</td><td>56</td><td>1198</td><td>2024-11-12</td></tr><tr><td>2018-05-22</td><td>West</td><td>Douglas</td><td>Michael</td><td>Television</td><td>32</td><td>1198</td><td>2024-11-12</td></tr><tr><td>2019-03-07</td><td>West</td><td>Timothy</td><td>Stephen</td><td>Home Theater</td><td>7</td><td>500</td><td>2024-11-12</td></tr><tr><td>2019-08-24</td><td>West</td><td>Timothy</td><td>Stephen</td><td>Desk</td><td>3</td><td>125</td><td>2024-11-12</td></tr><tr><td>2019-09-27</td><td>West</td><td>Timothy</td><td>Stephen</td><td>Cell Phone</td><td>76</td><td>225</td><td>2024-11-12</td></tr><tr><td>2019-10-14</td><td>West</td><td>Douglas</td><td>Michael</td><td>Home Theater</td><td>57</td><td>500</td><td>2024-11-12</td></tr></tbody></table></div>"
      ]
     },
     "metadata": {
      "application/vnd.databricks.v1+output": {
       "addedWidgets": {},
       "aggData": [],
       "aggError": "",
       "aggOverflow": false,
       "aggSchema": [],
       "aggSeriesLimitReached": false,
       "aggType": "",
       "arguments": {},
       "columnCustomDisplayInfos": {},
       "data": [
        [
         "2018-01-23",
         "Central",
         "Hermann",
         "Shelli",
         "Home Theater",
         "50",
         "500",
         "2024-11-12"
        ],
        [
         "2018-02-09",
         "Central",
         "Hermann",
         "Luis",
         "Television",
         "36",
         "1198",
         "2024-11-12"
        ],
        [
         "2018-02-26",
         "Central",
         "Timothy",
         "David",
         "Cell Phone",
         "27",
         "225",
         "2024-11-12"
        ],
        [
         "2018-04-18",
         "Central",
         "Martha",
         "Steven",
         "Television",
         "75",
         "1198",
         "2024-11-12"
        ],
        [
         "2018-05-05",
         "Central",
         "Hermann",
         "Luis",
         "Television",
         "90",
         "1198",
         "2024-11-12"
        ],
        [
         "2018-06-25",
         "Central",
         "Hermann",
         "Sigal",
         "Television",
         "90",
         "1198",
         "2024-11-12"
        ],
        [
         "2018-09-01",
         "Central",
         "Douglas",
         "John",
         "Desk",
         "2",
         "125",
         "2024-11-12"
        ],
        [
         "2018-10-05",
         "Central",
         "Hermann",
         "Sigal",
         "Home Theater",
         "28",
         "500",
         "2024-11-12"
        ],
        [
         "2018-11-25",
         "Central",
         "Hermann",
         "Shelli",
         "Video Games",
         "96",
         "59",
         "2024-11-12"
        ],
        [
         "2018-12-12",
         "Central",
         "Douglas",
         "John",
         "Television",
         "67",
         "1198",
         "2024-11-12"
        ],
        [
         "2019-01-15",
         "Central",
         "Timothy",
         "David",
         "Home Theater",
         "46",
         "500",
         "2024-11-12"
        ],
        [
         "2019-02-01",
         "Central",
         "Douglas",
         "John",
         "Home Theater",
         "87",
         "500",
         "2024-11-12"
        ],
        [
         "2019-03-24",
         "Central",
         "Hermann",
         "Luis",
         "Video Games",
         "50",
         "59",
         "2024-11-12"
        ],
        [
         "2019-04-10",
         "Central",
         "Martha",
         "Steven",
         "Television",
         "66",
         "1198",
         "2024-11-12"
        ],
        [
         "2019-05-14",
         "Central",
         "Timothy",
         "David",
         "Television",
         "53",
         "1198",
         "2024-11-12"
        ],
        [
         "2019-05-31",
         "Central",
         "Timothy",
         "David",
         "Home Theater",
         "80",
         "500",
         "2024-11-12"
        ],
        [
         "2019-06-17",
         "Central",
         "Hermann",
         "Shelli",
         "Desk",
         "5",
         "125",
         "2024-11-12"
        ],
        [
         "2019-07-21",
         "Central",
         "Hermann",
         "Sigal",
         "Video Games",
         "55",
         "59",
         "2024-11-12"
        ],
        [
         "2019-08-07",
         "Central",
         "Hermann",
         "Shelli",
         "Video Games",
         "42",
         "59",
         "2024-11-12"
        ],
        [
         "2019-09-10",
         "Central",
         "Timothy",
         "David",
         "Television",
         "7",
         "1198",
         "2024-11-12"
        ],
        [
         "2019-10-31",
         "Central",
         "Martha",
         "Steven",
         "Television",
         "14",
         "1198",
         "2024-11-12"
        ],
        [
         "2019-11-17",
         "Central",
         "Hermann",
         "Luis",
         "Home Theater",
         "11",
         "500",
         "2024-11-12"
        ],
        [
         "2019-12-04",
         "Central",
         "Hermann",
         "Luis",
         "Home Theater",
         "94",
         "500",
         "2024-11-12"
        ],
        [
         "2019-12-21",
         "Central",
         "Martha",
         "Steven",
         "Home Theater",
         "28",
         "500",
         "2024-11-12"
        ],
        [
         "2018-01-06",
         "East",
         "Martha",
         "Alexander",
         "Television",
         "95",
         "1198",
         "2024-11-12"
        ],
        [
         "2018-04-01",
         "East",
         "Martha",
         "Alexander",
         "Home Theater",
         "60",
         "500",
         "2024-11-12"
        ],
        [
         "2018-06-08",
         "East",
         "Martha",
         "Alexander",
         "Home Theater",
         "60",
         "500",
         "2024-11-12"
        ],
        [
         "2018-07-12",
         "East",
         "Martha",
         "Diana",
         "Home Theater",
         "29",
         "500",
         "2024-11-12"
        ],
        [
         "2018-07-29",
         "East",
         "Douglas",
         "Karen",
         "Home Theater",
         "81",
         "500",
         "2024-11-12"
        ],
        [
         "2018-08-15",
         "East",
         "Martha",
         "Alexander",
         "Television",
         "35",
         "1198",
         "2024-11-12"
        ],
        [
         "2018-09-18",
         "East",
         "Martha",
         "Alexander",
         "Video Games",
         "16",
         "59",
         "2024-11-12"
        ],
        [
         "2018-10-22",
         "East",
         "Martha",
         "Alexander",
         "Cell Phone",
         "64",
         "225",
         "2024-11-12"
        ],
        [
         "2018-11-08",
         "East",
         "Douglas",
         "Karen",
         "Cell Phone",
         "15",
         "225",
         "2024-11-12"
        ],
        [
         "2018-12-29",
         "East",
         "Douglas",
         "Karen",
         "Video Games",
         "74",
         "59",
         "2024-11-12"
        ],
        [
         "2019-02-18",
         "East",
         "Martha",
         "Alexander",
         "Home Theater",
         "4",
         "500",
         "2024-11-12"
        ],
        [
         "2019-04-27",
         "East",
         "Martha",
         "Diana",
         "Cell Phone",
         "96",
         "225",
         "2024-11-12"
        ],
        [
         "2019-07-04",
         "East",
         "Martha",
         "Alexander",
         "Video Games",
         "62",
         "59",
         "2024-11-12"
        ],
        [
         "2018-03-15",
         "West",
         "Timothy",
         "Stephen",
         "Television",
         "56",
         "1198",
         "2024-11-12"
        ],
        [
         "2018-05-22",
         "West",
         "Douglas",
         "Michael",
         "Television",
         "32",
         "1198",
         "2024-11-12"
        ],
        [
         "2019-03-07",
         "West",
         "Timothy",
         "Stephen",
         "Home Theater",
         "7",
         "500",
         "2024-11-12"
        ],
        [
         "2019-08-24",
         "West",
         "Timothy",
         "Stephen",
         "Desk",
         "3",
         "125",
         "2024-11-12"
        ],
        [
         "2019-09-27",
         "West",
         "Timothy",
         "Stephen",
         "Cell Phone",
         "76",
         "225",
         "2024-11-12"
        ],
        [
         "2019-10-14",
         "West",
         "Douglas",
         "Michael",
         "Home Theater",
         "57",
         "500",
         "2024-11-12"
        ]
       ],
       "datasetInfos": [],
       "dbfsResultPath": null,
       "isJsonSchema": true,
       "metadata": {},
       "overflow": false,
       "plotOptions": {
        "customPlotOptions": {},
        "displayType": "table",
        "pivotAggregation": null,
        "pivotColumns": null,
        "xColumns": null,
        "yColumns": null
       },
       "removedWidgets": [],
       "schema": [
        {
         "metadata": "{}",
         "name": "order_date",
         "type": "\"string\""
        },
        {
         "metadata": "{}",
         "name": "region",
         "type": "\"string\""
        },
        {
         "metadata": "{}",
         "name": "manager",
         "type": "\"string\""
        },
        {
         "metadata": "{}",
         "name": "sales_man",
         "type": "\"string\""
        },
        {
         "metadata": "{}",
         "name": "item",
         "type": "\"string\""
        },
        {
         "metadata": "{}",
         "name": "units",
         "type": "\"string\""
        },
        {
         "metadata": "{}",
         "name": "unit_price",
         "type": "\"string\""
        },
        {
         "metadata": "{}",
         "name": "today",
         "type": "\"date\""
        }
       ],
       "type": "table"
      }
     },
     "output_type": "display_data"
    }
   ],
   "source": [
    "%sql\n",
    "\n",
    "select *, current_date() as today from sales_data;"
   ]
  },
  {
   "cell_type": "markdown",
   "metadata": {
    "application/vnd.databricks.v1+cell": {
     "cellMetadata": {},
     "inputWidgets": {},
     "nuid": "9237d96a-98d1-41bd-8343-5f504a813e35",
     "showTitle": false,
     "tableResultSettingsMap": {},
     "title": ""
    }
   },
   "source": [
    "Date formatting\n"
   ]
  },
  {
   "cell_type": "code",
   "execution_count": 0,
   "metadata": {
    "application/vnd.databricks.v1+cell": {
     "cellMetadata": {
      "byteLimit": 2048000,
      "implicitDf": true,
      "rowLimit": 10000
     },
     "inputWidgets": {},
     "nuid": "5d60caf1-2ff3-46e5-bcbe-8dc0dcd4b668",
     "showTitle": false,
     "tableResultSettingsMap": {},
     "title": ""
    }
   },
   "outputs": [
    {
     "output_type": "display_data",
     "data": {
      "text/html": [
       "<style scoped>\n",
       "  .table-result-container {\n",
       "    max-height: 300px;\n",
       "    overflow: auto;\n",
       "  }\n",
       "  table, th, td {\n",
       "    border: 1px solid black;\n",
       "    border-collapse: collapse;\n",
       "  }\n",
       "  th, td {\n",
       "    padding: 5px;\n",
       "  }\n",
       "  th {\n",
       "    text-align: left;\n",
       "  }\n",
       "</style><div class='table-result-container'><table class='table-result'><thead style='background-color: white'><tr><th>order_date</th><th>order_date_formatted</th><th>item</th></tr></thead><tbody><tr><td>2018-01-23</td><td>23-01-2018</td><td>Home Theater</td></tr><tr><td>2018-02-09</td><td>09-02-2018</td><td>Television</td></tr><tr><td>2018-02-26</td><td>26-02-2018</td><td>Cell Phone</td></tr><tr><td>2018-04-18</td><td>18-04-2018</td><td>Television</td></tr><tr><td>2018-05-05</td><td>05-05-2018</td><td>Television</td></tr><tr><td>2018-06-25</td><td>25-06-2018</td><td>Television</td></tr><tr><td>2018-09-01</td><td>01-09-2018</td><td>Desk</td></tr><tr><td>2018-10-05</td><td>05-10-2018</td><td>Home Theater</td></tr><tr><td>2018-11-25</td><td>25-11-2018</td><td>Video Games</td></tr><tr><td>2018-12-12</td><td>12-12-2018</td><td>Television</td></tr><tr><td>2019-01-15</td><td>15-01-2019</td><td>Home Theater</td></tr><tr><td>2019-02-01</td><td>01-02-2019</td><td>Home Theater</td></tr><tr><td>2019-03-24</td><td>24-03-2019</td><td>Video Games</td></tr><tr><td>2019-04-10</td><td>10-04-2019</td><td>Television</td></tr><tr><td>2019-05-14</td><td>14-05-2019</td><td>Television</td></tr><tr><td>2019-05-31</td><td>31-05-2019</td><td>Home Theater</td></tr><tr><td>2019-06-17</td><td>17-06-2019</td><td>Desk</td></tr><tr><td>2019-07-21</td><td>21-07-2019</td><td>Video Games</td></tr><tr><td>2019-08-07</td><td>07-08-2019</td><td>Video Games</td></tr><tr><td>2019-09-10</td><td>10-09-2019</td><td>Television</td></tr><tr><td>2019-10-31</td><td>31-10-2019</td><td>Television</td></tr><tr><td>2019-11-17</td><td>17-11-2019</td><td>Home Theater</td></tr><tr><td>2019-12-04</td><td>04-12-2019</td><td>Home Theater</td></tr><tr><td>2019-12-21</td><td>21-12-2019</td><td>Home Theater</td></tr><tr><td>2018-01-06</td><td>06-01-2018</td><td>Television</td></tr><tr><td>2018-04-01</td><td>01-04-2018</td><td>Home Theater</td></tr><tr><td>2018-06-08</td><td>08-06-2018</td><td>Home Theater</td></tr><tr><td>2018-07-12</td><td>12-07-2018</td><td>Home Theater</td></tr><tr><td>2018-07-29</td><td>29-07-2018</td><td>Home Theater</td></tr><tr><td>2018-08-15</td><td>15-08-2018</td><td>Television</td></tr><tr><td>2018-09-18</td><td>18-09-2018</td><td>Video Games</td></tr><tr><td>2018-10-22</td><td>22-10-2018</td><td>Cell Phone</td></tr><tr><td>2018-11-08</td><td>08-11-2018</td><td>Cell Phone</td></tr><tr><td>2018-12-29</td><td>29-12-2018</td><td>Video Games</td></tr><tr><td>2019-02-18</td><td>18-02-2019</td><td>Home Theater</td></tr><tr><td>2019-04-27</td><td>27-04-2019</td><td>Cell Phone</td></tr><tr><td>2019-07-04</td><td>04-07-2019</td><td>Video Games</td></tr><tr><td>2018-03-15</td><td>15-03-2018</td><td>Television</td></tr><tr><td>2018-05-22</td><td>22-05-2018</td><td>Television</td></tr><tr><td>2019-03-07</td><td>07-03-2019</td><td>Home Theater</td></tr><tr><td>2019-08-24</td><td>24-08-2019</td><td>Desk</td></tr><tr><td>2019-09-27</td><td>27-09-2019</td><td>Cell Phone</td></tr><tr><td>2019-10-14</td><td>14-10-2019</td><td>Home Theater</td></tr></tbody></table></div>"
      ]
     },
     "metadata": {
      "application/vnd.databricks.v1+output": {
       "addedWidgets": {},
       "aggData": [],
       "aggError": "",
       "aggOverflow": false,
       "aggSchema": [],
       "aggSeriesLimitReached": false,
       "aggType": "",
       "arguments": {},
       "columnCustomDisplayInfos": {},
       "data": [
        [
         "2018-01-23",
         "23-01-2018",
         "Home Theater"
        ],
        [
         "2018-02-09",
         "09-02-2018",
         "Television"
        ],
        [
         "2018-02-26",
         "26-02-2018",
         "Cell Phone"
        ],
        [
         "2018-04-18",
         "18-04-2018",
         "Television"
        ],
        [
         "2018-05-05",
         "05-05-2018",
         "Television"
        ],
        [
         "2018-06-25",
         "25-06-2018",
         "Television"
        ],
        [
         "2018-09-01",
         "01-09-2018",
         "Desk"
        ],
        [
         "2018-10-05",
         "05-10-2018",
         "Home Theater"
        ],
        [
         "2018-11-25",
         "25-11-2018",
         "Video Games"
        ],
        [
         "2018-12-12",
         "12-12-2018",
         "Television"
        ],
        [
         "2019-01-15",
         "15-01-2019",
         "Home Theater"
        ],
        [
         "2019-02-01",
         "01-02-2019",
         "Home Theater"
        ],
        [
         "2019-03-24",
         "24-03-2019",
         "Video Games"
        ],
        [
         "2019-04-10",
         "10-04-2019",
         "Television"
        ],
        [
         "2019-05-14",
         "14-05-2019",
         "Television"
        ],
        [
         "2019-05-31",
         "31-05-2019",
         "Home Theater"
        ],
        [
         "2019-06-17",
         "17-06-2019",
         "Desk"
        ],
        [
         "2019-07-21",
         "21-07-2019",
         "Video Games"
        ],
        [
         "2019-08-07",
         "07-08-2019",
         "Video Games"
        ],
        [
         "2019-09-10",
         "10-09-2019",
         "Television"
        ],
        [
         "2019-10-31",
         "31-10-2019",
         "Television"
        ],
        [
         "2019-11-17",
         "17-11-2019",
         "Home Theater"
        ],
        [
         "2019-12-04",
         "04-12-2019",
         "Home Theater"
        ],
        [
         "2019-12-21",
         "21-12-2019",
         "Home Theater"
        ],
        [
         "2018-01-06",
         "06-01-2018",
         "Television"
        ],
        [
         "2018-04-01",
         "01-04-2018",
         "Home Theater"
        ],
        [
         "2018-06-08",
         "08-06-2018",
         "Home Theater"
        ],
        [
         "2018-07-12",
         "12-07-2018",
         "Home Theater"
        ],
        [
         "2018-07-29",
         "29-07-2018",
         "Home Theater"
        ],
        [
         "2018-08-15",
         "15-08-2018",
         "Television"
        ],
        [
         "2018-09-18",
         "18-09-2018",
         "Video Games"
        ],
        [
         "2018-10-22",
         "22-10-2018",
         "Cell Phone"
        ],
        [
         "2018-11-08",
         "08-11-2018",
         "Cell Phone"
        ],
        [
         "2018-12-29",
         "29-12-2018",
         "Video Games"
        ],
        [
         "2019-02-18",
         "18-02-2019",
         "Home Theater"
        ],
        [
         "2019-04-27",
         "27-04-2019",
         "Cell Phone"
        ],
        [
         "2019-07-04",
         "04-07-2019",
         "Video Games"
        ],
        [
         "2018-03-15",
         "15-03-2018",
         "Television"
        ],
        [
         "2018-05-22",
         "22-05-2018",
         "Television"
        ],
        [
         "2019-03-07",
         "07-03-2019",
         "Home Theater"
        ],
        [
         "2019-08-24",
         "24-08-2019",
         "Desk"
        ],
        [
         "2019-09-27",
         "27-09-2019",
         "Cell Phone"
        ],
        [
         "2019-10-14",
         "14-10-2019",
         "Home Theater"
        ]
       ],
       "datasetInfos": [],
       "dbfsResultPath": null,
       "isJsonSchema": true,
       "metadata": {},
       "overflow": false,
       "plotOptions": {
        "customPlotOptions": {},
        "displayType": "table",
        "pivotAggregation": null,
        "pivotColumns": null,
        "xColumns": null,
        "yColumns": null
       },
       "removedWidgets": [],
       "schema": [
        {
         "metadata": "{}",
         "name": "order_date",
         "type": "\"string\""
        },
        {
         "metadata": "{}",
         "name": "order_date_formatted",
         "type": "\"string\""
        },
        {
         "metadata": "{}",
         "name": "item",
         "type": "\"string\""
        }
       ],
       "type": "table"
      }
     },
     "output_type": "display_data"
    }
   ],
   "source": [
    "%sql\n",
    "\n",
    "select order_date, date_format(order_date, \"dd-MM-yyyy\" ) as order_date_formatted,item from sales_data"
   ]
  },
  {
   "cell_type": "code",
   "execution_count": 0,
   "metadata": {
    "application/vnd.databricks.v1+cell": {
     "cellMetadata": {
      "byteLimit": 2048000,
      "implicitDf": true,
      "rowLimit": 10000
     },
     "inputWidgets": {},
     "nuid": "a52f61bd-2f0d-4fda-a592-7f9fd904f2f2",
     "showTitle": false,
     "tableResultSettingsMap": {},
     "title": ""
    }
   },
   "outputs": [
    {
     "output_type": "display_data",
     "data": {
      "text/html": [
       "<style scoped>\n",
       "  .table-result-container {\n",
       "    max-height: 300px;\n",
       "    overflow: auto;\n",
       "  }\n",
       "  table, th, td {\n",
       "    border: 1px solid black;\n",
       "    border-collapse: collapse;\n",
       "  }\n",
       "  th, td {\n",
       "    padding: 5px;\n",
       "  }\n",
       "  th {\n",
       "    text-align: left;\n",
       "  }\n",
       "</style><div class='table-result-container'><table class='table-result'><thead style='background-color: white'><tr><th>order_date</th><th>order_date_formatted</th><th>current_date_formatted</th><th>item</th></tr></thead><tbody><tr><td>2018-01-23</td><td>01-2018</td><td>12-2024-11</td><td>Home Theater</td></tr><tr><td>2018-02-09</td><td>02-2018</td><td>12-2024-11</td><td>Television</td></tr><tr><td>2018-02-26</td><td>02-2018</td><td>12-2024-11</td><td>Cell Phone</td></tr><tr><td>2018-04-18</td><td>04-2018</td><td>12-2024-11</td><td>Television</td></tr><tr><td>2018-05-05</td><td>05-2018</td><td>12-2024-11</td><td>Television</td></tr><tr><td>2018-06-25</td><td>06-2018</td><td>12-2024-11</td><td>Television</td></tr><tr><td>2018-09-01</td><td>09-2018</td><td>12-2024-11</td><td>Desk</td></tr><tr><td>2018-10-05</td><td>10-2018</td><td>12-2024-11</td><td>Home Theater</td></tr><tr><td>2018-11-25</td><td>11-2018</td><td>12-2024-11</td><td>Video Games</td></tr><tr><td>2018-12-12</td><td>12-2018</td><td>12-2024-11</td><td>Television</td></tr><tr><td>2019-01-15</td><td>01-2019</td><td>12-2024-11</td><td>Home Theater</td></tr><tr><td>2019-02-01</td><td>02-2019</td><td>12-2024-11</td><td>Home Theater</td></tr><tr><td>2019-03-24</td><td>03-2019</td><td>12-2024-11</td><td>Video Games</td></tr><tr><td>2019-04-10</td><td>04-2019</td><td>12-2024-11</td><td>Television</td></tr><tr><td>2019-05-14</td><td>05-2019</td><td>12-2024-11</td><td>Television</td></tr><tr><td>2019-05-31</td><td>05-2019</td><td>12-2024-11</td><td>Home Theater</td></tr><tr><td>2019-06-17</td><td>06-2019</td><td>12-2024-11</td><td>Desk</td></tr><tr><td>2019-07-21</td><td>07-2019</td><td>12-2024-11</td><td>Video Games</td></tr><tr><td>2019-08-07</td><td>08-2019</td><td>12-2024-11</td><td>Video Games</td></tr><tr><td>2019-09-10</td><td>09-2019</td><td>12-2024-11</td><td>Television</td></tr><tr><td>2019-10-31</td><td>10-2019</td><td>12-2024-11</td><td>Television</td></tr><tr><td>2019-11-17</td><td>11-2019</td><td>12-2024-11</td><td>Home Theater</td></tr><tr><td>2019-12-04</td><td>12-2019</td><td>12-2024-11</td><td>Home Theater</td></tr><tr><td>2019-12-21</td><td>12-2019</td><td>12-2024-11</td><td>Home Theater</td></tr><tr><td>2018-01-06</td><td>01-2018</td><td>12-2024-11</td><td>Television</td></tr><tr><td>2018-04-01</td><td>04-2018</td><td>12-2024-11</td><td>Home Theater</td></tr><tr><td>2018-06-08</td><td>06-2018</td><td>12-2024-11</td><td>Home Theater</td></tr><tr><td>2018-07-12</td><td>07-2018</td><td>12-2024-11</td><td>Home Theater</td></tr><tr><td>2018-07-29</td><td>07-2018</td><td>12-2024-11</td><td>Home Theater</td></tr><tr><td>2018-08-15</td><td>08-2018</td><td>12-2024-11</td><td>Television</td></tr><tr><td>2018-09-18</td><td>09-2018</td><td>12-2024-11</td><td>Video Games</td></tr><tr><td>2018-10-22</td><td>10-2018</td><td>12-2024-11</td><td>Cell Phone</td></tr><tr><td>2018-11-08</td><td>11-2018</td><td>12-2024-11</td><td>Cell Phone</td></tr><tr><td>2018-12-29</td><td>12-2018</td><td>12-2024-11</td><td>Video Games</td></tr><tr><td>2019-02-18</td><td>02-2019</td><td>12-2024-11</td><td>Home Theater</td></tr><tr><td>2019-04-27</td><td>04-2019</td><td>12-2024-11</td><td>Cell Phone</td></tr><tr><td>2019-07-04</td><td>07-2019</td><td>12-2024-11</td><td>Video Games</td></tr><tr><td>2018-03-15</td><td>03-2018</td><td>12-2024-11</td><td>Television</td></tr><tr><td>2018-05-22</td><td>05-2018</td><td>12-2024-11</td><td>Television</td></tr><tr><td>2019-03-07</td><td>03-2019</td><td>12-2024-11</td><td>Home Theater</td></tr><tr><td>2019-08-24</td><td>08-2019</td><td>12-2024-11</td><td>Desk</td></tr><tr><td>2019-09-27</td><td>09-2019</td><td>12-2024-11</td><td>Cell Phone</td></tr><tr><td>2019-10-14</td><td>10-2019</td><td>12-2024-11</td><td>Home Theater</td></tr></tbody></table></div>"
      ]
     },
     "metadata": {
      "application/vnd.databricks.v1+output": {
       "addedWidgets": {},
       "aggData": [],
       "aggError": "",
       "aggOverflow": false,
       "aggSchema": [],
       "aggSeriesLimitReached": false,
       "aggType": "",
       "arguments": {},
       "columnCustomDisplayInfos": {},
       "data": [
        [
         "2018-01-23",
         "01-2018",
         "12-2024-11",
         "Home Theater"
        ],
        [
         "2018-02-09",
         "02-2018",
         "12-2024-11",
         "Television"
        ],
        [
         "2018-02-26",
         "02-2018",
         "12-2024-11",
         "Cell Phone"
        ],
        [
         "2018-04-18",
         "04-2018",
         "12-2024-11",
         "Television"
        ],
        [
         "2018-05-05",
         "05-2018",
         "12-2024-11",
         "Television"
        ],
        [
         "2018-06-25",
         "06-2018",
         "12-2024-11",
         "Television"
        ],
        [
         "2018-09-01",
         "09-2018",
         "12-2024-11",
         "Desk"
        ],
        [
         "2018-10-05",
         "10-2018",
         "12-2024-11",
         "Home Theater"
        ],
        [
         "2018-11-25",
         "11-2018",
         "12-2024-11",
         "Video Games"
        ],
        [
         "2018-12-12",
         "12-2018",
         "12-2024-11",
         "Television"
        ],
        [
         "2019-01-15",
         "01-2019",
         "12-2024-11",
         "Home Theater"
        ],
        [
         "2019-02-01",
         "02-2019",
         "12-2024-11",
         "Home Theater"
        ],
        [
         "2019-03-24",
         "03-2019",
         "12-2024-11",
         "Video Games"
        ],
        [
         "2019-04-10",
         "04-2019",
         "12-2024-11",
         "Television"
        ],
        [
         "2019-05-14",
         "05-2019",
         "12-2024-11",
         "Television"
        ],
        [
         "2019-05-31",
         "05-2019",
         "12-2024-11",
         "Home Theater"
        ],
        [
         "2019-06-17",
         "06-2019",
         "12-2024-11",
         "Desk"
        ],
        [
         "2019-07-21",
         "07-2019",
         "12-2024-11",
         "Video Games"
        ],
        [
         "2019-08-07",
         "08-2019",
         "12-2024-11",
         "Video Games"
        ],
        [
         "2019-09-10",
         "09-2019",
         "12-2024-11",
         "Television"
        ],
        [
         "2019-10-31",
         "10-2019",
         "12-2024-11",
         "Television"
        ],
        [
         "2019-11-17",
         "11-2019",
         "12-2024-11",
         "Home Theater"
        ],
        [
         "2019-12-04",
         "12-2019",
         "12-2024-11",
         "Home Theater"
        ],
        [
         "2019-12-21",
         "12-2019",
         "12-2024-11",
         "Home Theater"
        ],
        [
         "2018-01-06",
         "01-2018",
         "12-2024-11",
         "Television"
        ],
        [
         "2018-04-01",
         "04-2018",
         "12-2024-11",
         "Home Theater"
        ],
        [
         "2018-06-08",
         "06-2018",
         "12-2024-11",
         "Home Theater"
        ],
        [
         "2018-07-12",
         "07-2018",
         "12-2024-11",
         "Home Theater"
        ],
        [
         "2018-07-29",
         "07-2018",
         "12-2024-11",
         "Home Theater"
        ],
        [
         "2018-08-15",
         "08-2018",
         "12-2024-11",
         "Television"
        ],
        [
         "2018-09-18",
         "09-2018",
         "12-2024-11",
         "Video Games"
        ],
        [
         "2018-10-22",
         "10-2018",
         "12-2024-11",
         "Cell Phone"
        ],
        [
         "2018-11-08",
         "11-2018",
         "12-2024-11",
         "Cell Phone"
        ],
        [
         "2018-12-29",
         "12-2018",
         "12-2024-11",
         "Video Games"
        ],
        [
         "2019-02-18",
         "02-2019",
         "12-2024-11",
         "Home Theater"
        ],
        [
         "2019-04-27",
         "04-2019",
         "12-2024-11",
         "Cell Phone"
        ],
        [
         "2019-07-04",
         "07-2019",
         "12-2024-11",
         "Video Games"
        ],
        [
         "2018-03-15",
         "03-2018",
         "12-2024-11",
         "Television"
        ],
        [
         "2018-05-22",
         "05-2018",
         "12-2024-11",
         "Television"
        ],
        [
         "2019-03-07",
         "03-2019",
         "12-2024-11",
         "Home Theater"
        ],
        [
         "2019-08-24",
         "08-2019",
         "12-2024-11",
         "Desk"
        ],
        [
         "2019-09-27",
         "09-2019",
         "12-2024-11",
         "Cell Phone"
        ],
        [
         "2019-10-14",
         "10-2019",
         "12-2024-11",
         "Home Theater"
        ]
       ],
       "datasetInfos": [],
       "dbfsResultPath": null,
       "isJsonSchema": true,
       "metadata": {},
       "overflow": false,
       "plotOptions": {
        "customPlotOptions": {},
        "displayType": "table",
        "pivotAggregation": null,
        "pivotColumns": null,
        "xColumns": null,
        "yColumns": null
       },
       "removedWidgets": [],
       "schema": [
        {
         "metadata": "{}",
         "name": "order_date",
         "type": "\"string\""
        },
        {
         "metadata": "{}",
         "name": "order_date_formatted",
         "type": "\"string\""
        },
        {
         "metadata": "{}",
         "name": "current_date_formatted",
         "type": "\"string\""
        },
        {
         "metadata": "{}",
         "name": "item",
         "type": "\"string\""
        }
       ],
       "type": "table"
      }
     },
     "output_type": "display_data"
    }
   ],
   "source": [
    "%sql\n",
    "\n",
    "select order_date, date_format(order_date, \"MM-yyyy\" ) as order_date_formatted,\n",
    "date_format(now(),\"dd-yyyy-MM\") as current_date_formatted,item from sales_data"
   ]
  },
  {
   "cell_type": "code",
   "execution_count": 0,
   "metadata": {
    "application/vnd.databricks.v1+cell": {
     "cellMetadata": {
      "byteLimit": 2048000,
      "implicitDf": true,
      "rowLimit": 10000
     },
     "inputWidgets": {},
     "nuid": "d794e6fa-b1a6-4f53-9202-ac769c8285ea",
     "showTitle": false,
     "tableResultSettingsMap": {},
     "title": ""
    }
   },
   "outputs": [
    {
     "output_type": "display_data",
     "data": {
      "text/html": [
       "<style scoped>\n",
       "  .table-result-container {\n",
       "    max-height: 300px;\n",
       "    overflow: auto;\n",
       "  }\n",
       "  table, th, td {\n",
       "    border: 1px solid black;\n",
       "    border-collapse: collapse;\n",
       "  }\n",
       "  th, td {\n",
       "    padding: 5px;\n",
       "  }\n",
       "  th {\n",
       "    text-align: left;\n",
       "  }\n",
       "</style><div class='table-result-container'><table class='table-result'><thead style='background-color: white'><tr><th>to_date_res</th></tr></thead><tbody><tr><td>2024-09-22</td></tr></tbody></table></div>"
      ]
     },
     "metadata": {
      "application/vnd.databricks.v1+output": {
       "addedWidgets": {},
       "aggData": [],
       "aggError": "",
       "aggOverflow": false,
       "aggSchema": [],
       "aggSeriesLimitReached": false,
       "aggType": "",
       "arguments": {},
       "columnCustomDisplayInfos": {},
       "data": [
        [
         "2024-09-22"
        ]
       ],
       "datasetInfos": [],
       "dbfsResultPath": null,
       "isJsonSchema": true,
       "metadata": {},
       "overflow": false,
       "plotOptions": {
        "customPlotOptions": {},
        "displayType": "table",
        "pivotAggregation": null,
        "pivotColumns": null,
        "xColumns": null,
        "yColumns": null
       },
       "removedWidgets": [],
       "schema": [
        {
         "metadata": "{}",
         "name": "to_date_res",
         "type": "\"date\""
        }
       ],
       "type": "table"
      }
     },
     "output_type": "display_data"
    }
   ],
   "source": [
    "%sql\n",
    "\n",
    "select current_timestamp(),\n",
    "to_date(current_timestamp()) as to_date_result;\n",
    "\n",
    "select to_date('22-09-2024','dd-MM-yyyy') as to_date_res;"
   ]
  },
  {
   "cell_type": "code",
   "execution_count": 0,
   "metadata": {
    "application/vnd.databricks.v1+cell": {
     "cellMetadata": {
      "byteLimit": 2048000,
      "implicitDf": true,
      "rowLimit": 10000
     },
     "inputWidgets": {},
     "nuid": "a6a7e732-dd1c-47b3-8807-6b069e042f04",
     "showTitle": false,
     "tableResultSettingsMap": {},
     "title": ""
    }
   },
   "outputs": [
    {
     "output_type": "display_data",
     "data": {
      "text/html": [
       "<style scoped>\n",
       "  .table-result-container {\n",
       "    max-height: 300px;\n",
       "    overflow: auto;\n",
       "  }\n",
       "  table, th, td {\n",
       "    border: 1px solid black;\n",
       "    border-collapse: collapse;\n",
       "  }\n",
       "  th, td {\n",
       "    padding: 5px;\n",
       "  }\n",
       "  th {\n",
       "    text-align: left;\n",
       "  }\n",
       "</style><div class='table-result-container'><table class='table-result'><thead style='background-color: white'><tr><th>to_date_res</th></tr></thead><tbody><tr><td>null</td></tr></tbody></table></div>"
      ]
     },
     "metadata": {
      "application/vnd.databricks.v1+output": {
       "addedWidgets": {},
       "aggData": [],
       "aggError": "",
       "aggOverflow": false,
       "aggSchema": [],
       "aggSeriesLimitReached": false,
       "aggType": "",
       "arguments": {},
       "columnCustomDisplayInfos": {},
       "data": [
        [
         null
        ]
       ],
       "datasetInfos": [],
       "dbfsResultPath": null,
       "isJsonSchema": true,
       "metadata": {},
       "overflow": false,
       "plotOptions": {
        "customPlotOptions": {},
        "displayType": "table",
        "pivotAggregation": null,
        "pivotColumns": null,
        "xColumns": null,
        "yColumns": null
       },
       "removedWidgets": [],
       "schema": [
        {
         "metadata": "{}",
         "name": "to_date_res",
         "type": "\"date\""
        }
       ],
       "type": "table"
      }
     },
     "output_type": "display_data"
    }
   ],
   "source": [
    "\n",
    "%sql\n",
    "select to_date('22-09-2024','MM-dd-yyyy') as to_date_res;  --This is invalid format I am giving as MM can't be 22, thus it gave null.\n",
    "\n",
    "-- to_date method converts the string into standard date datatype aks YYYY-MM-DD, if the second parameter specified is incorrect then it will --throw null value"
   ]
  },
  {
   "cell_type": "code",
   "execution_count": 0,
   "metadata": {
    "application/vnd.databricks.v1+cell": {
     "cellMetadata": {
      "byteLimit": 2048000,
      "implicitDf": true,
      "rowLimit": 10000
     },
     "inputWidgets": {},
     "nuid": "d515add0-c185-4398-b51e-8b137b6d76b4",
     "showTitle": false,
     "tableResultSettingsMap": {},
     "title": ""
    }
   },
   "outputs": [
    {
     "output_type": "display_data",
     "data": {
      "text/html": [
       "<style scoped>\n",
       "  .table-result-container {\n",
       "    max-height: 300px;\n",
       "    overflow: auto;\n",
       "  }\n",
       "  table, th, td {\n",
       "    border: 1px solid black;\n",
       "    border-collapse: collapse;\n",
       "  }\n",
       "  th, td {\n",
       "    padding: 5px;\n",
       "  }\n",
       "  th {\n",
       "    text-align: left;\n",
       "  }\n",
       "</style><div class='table-result-container'><table class='table-result'><thead style='background-color: white'><tr><th>to_date_res</th></tr></thead><tbody><tr><td>2024-09-22</td></tr></tbody></table></div>"
      ]
     },
     "metadata": {
      "application/vnd.databricks.v1+output": {
       "addedWidgets": {},
       "aggData": [],
       "aggError": "",
       "aggOverflow": false,
       "aggSchema": [],
       "aggSeriesLimitReached": false,
       "aggType": "",
       "arguments": {},
       "columnCustomDisplayInfos": {},
       "data": [
        [
         "2024-09-22"
        ]
       ],
       "datasetInfos": [],
       "dbfsResultPath": null,
       "isJsonSchema": true,
       "metadata": {},
       "overflow": false,
       "plotOptions": {
        "customPlotOptions": {},
        "displayType": "table",
        "pivotAggregation": null,
        "pivotColumns": null,
        "xColumns": null,
        "yColumns": null
       },
       "removedWidgets": [],
       "schema": [
        {
         "metadata": "{}",
         "name": "to_date_res",
         "type": "\"date\""
        }
       ],
       "type": "table"
      }
     },
     "output_type": "display_data"
    }
   ],
   "source": [
    "\n",
    "%sql\n",
    "select to_date('22-09-2024','dd-MM-yyyy') as to_date_res; \n",
    "--If the date is not in default format, mention the correct format in parameter to get the default date."
   ]
  },
  {
   "cell_type": "code",
   "execution_count": 0,
   "metadata": {
    "application/vnd.databricks.v1+cell": {
     "cellMetadata": {
      "byteLimit": 2048000,
      "implicitDf": true,
      "rowLimit": 10000
     },
     "inputWidgets": {},
     "nuid": "f32f0788-bf71-4874-9676-d7637c5f5237",
     "showTitle": false,
     "tableResultSettingsMap": {},
     "title": ""
    }
   },
   "outputs": [
    {
     "output_type": "display_data",
     "data": {
      "text/html": [
       "<style scoped>\n",
       "  .table-result-container {\n",
       "    max-height: 300px;\n",
       "    overflow: auto;\n",
       "  }\n",
       "  table, th, td {\n",
       "    border: 1px solid black;\n",
       "    border-collapse: collapse;\n",
       "  }\n",
       "  th, td {\n",
       "    padding: 5px;\n",
       "  }\n",
       "  th {\n",
       "    text-align: left;\n",
       "  }\n",
       "</style><div class='table-result-container'><table class='table-result'><thead style='background-color: white'><tr><th>order_date</th><th>date_format_result</th><th>to_date_result</th><th>item</th></tr></thead><tbody><tr><td>2018-01-23</td><td>23-01-2018</td><td>2018-01-23</td><td>Home Theater</td></tr><tr><td>2018-02-09</td><td>09-02-2018</td><td>2018-02-09</td><td>Television</td></tr><tr><td>2018-02-26</td><td>26-02-2018</td><td>2018-02-26</td><td>Cell Phone</td></tr><tr><td>2018-04-18</td><td>18-04-2018</td><td>2018-04-18</td><td>Television</td></tr><tr><td>2018-05-05</td><td>05-05-2018</td><td>2018-05-05</td><td>Television</td></tr><tr><td>2018-06-25</td><td>25-06-2018</td><td>2018-06-25</td><td>Television</td></tr><tr><td>2018-09-01</td><td>01-09-2018</td><td>2018-09-01</td><td>Desk</td></tr><tr><td>2018-10-05</td><td>05-10-2018</td><td>2018-10-05</td><td>Home Theater</td></tr><tr><td>2018-11-25</td><td>25-11-2018</td><td>2018-11-25</td><td>Video Games</td></tr><tr><td>2018-12-12</td><td>12-12-2018</td><td>2018-12-12</td><td>Television</td></tr><tr><td>2019-01-15</td><td>15-01-2019</td><td>2019-01-15</td><td>Home Theater</td></tr><tr><td>2019-02-01</td><td>01-02-2019</td><td>2019-02-01</td><td>Home Theater</td></tr><tr><td>2019-03-24</td><td>24-03-2019</td><td>2019-03-24</td><td>Video Games</td></tr><tr><td>2019-04-10</td><td>10-04-2019</td><td>2019-04-10</td><td>Television</td></tr><tr><td>2019-05-14</td><td>14-05-2019</td><td>2019-05-14</td><td>Television</td></tr><tr><td>2019-05-31</td><td>31-05-2019</td><td>2019-05-31</td><td>Home Theater</td></tr><tr><td>2019-06-17</td><td>17-06-2019</td><td>2019-06-17</td><td>Desk</td></tr><tr><td>2019-07-21</td><td>21-07-2019</td><td>2019-07-21</td><td>Video Games</td></tr><tr><td>2019-08-07</td><td>07-08-2019</td><td>2019-08-07</td><td>Video Games</td></tr><tr><td>2019-09-10</td><td>10-09-2019</td><td>2019-09-10</td><td>Television</td></tr><tr><td>2019-10-31</td><td>31-10-2019</td><td>2019-10-31</td><td>Television</td></tr><tr><td>2019-11-17</td><td>17-11-2019</td><td>2019-11-17</td><td>Home Theater</td></tr><tr><td>2019-12-04</td><td>04-12-2019</td><td>2019-12-04</td><td>Home Theater</td></tr><tr><td>2019-12-21</td><td>21-12-2019</td><td>2019-12-21</td><td>Home Theater</td></tr><tr><td>2018-01-06</td><td>06-01-2018</td><td>2018-01-06</td><td>Television</td></tr><tr><td>2018-04-01</td><td>01-04-2018</td><td>2018-04-01</td><td>Home Theater</td></tr><tr><td>2018-06-08</td><td>08-06-2018</td><td>2018-06-08</td><td>Home Theater</td></tr><tr><td>2018-07-12</td><td>12-07-2018</td><td>2018-07-12</td><td>Home Theater</td></tr><tr><td>2018-07-29</td><td>29-07-2018</td><td>2018-07-29</td><td>Home Theater</td></tr><tr><td>2018-08-15</td><td>15-08-2018</td><td>2018-08-15</td><td>Television</td></tr><tr><td>2018-09-18</td><td>18-09-2018</td><td>2018-09-18</td><td>Video Games</td></tr><tr><td>2018-10-22</td><td>22-10-2018</td><td>2018-10-22</td><td>Cell Phone</td></tr><tr><td>2018-11-08</td><td>08-11-2018</td><td>2018-11-08</td><td>Cell Phone</td></tr><tr><td>2018-12-29</td><td>29-12-2018</td><td>2018-12-29</td><td>Video Games</td></tr><tr><td>2019-02-18</td><td>18-02-2019</td><td>2019-02-18</td><td>Home Theater</td></tr><tr><td>2019-04-27</td><td>27-04-2019</td><td>2019-04-27</td><td>Cell Phone</td></tr><tr><td>2019-07-04</td><td>04-07-2019</td><td>2019-07-04</td><td>Video Games</td></tr><tr><td>2018-03-15</td><td>15-03-2018</td><td>2018-03-15</td><td>Television</td></tr><tr><td>2018-05-22</td><td>22-05-2018</td><td>2018-05-22</td><td>Television</td></tr><tr><td>2019-03-07</td><td>07-03-2019</td><td>2019-03-07</td><td>Home Theater</td></tr><tr><td>2019-08-24</td><td>24-08-2019</td><td>2019-08-24</td><td>Desk</td></tr><tr><td>2019-09-27</td><td>27-09-2019</td><td>2019-09-27</td><td>Cell Phone</td></tr><tr><td>2019-10-14</td><td>14-10-2019</td><td>2019-10-14</td><td>Home Theater</td></tr></tbody></table></div>"
      ]
     },
     "metadata": {
      "application/vnd.databricks.v1+output": {
       "addedWidgets": {},
       "aggData": [],
       "aggError": "",
       "aggOverflow": false,
       "aggSchema": [],
       "aggSeriesLimitReached": false,
       "aggType": "",
       "arguments": {},
       "columnCustomDisplayInfos": {},
       "data": [
        [
         "2018-01-23",
         "23-01-2018",
         "2018-01-23",
         "Home Theater"
        ],
        [
         "2018-02-09",
         "09-02-2018",
         "2018-02-09",
         "Television"
        ],
        [
         "2018-02-26",
         "26-02-2018",
         "2018-02-26",
         "Cell Phone"
        ],
        [
         "2018-04-18",
         "18-04-2018",
         "2018-04-18",
         "Television"
        ],
        [
         "2018-05-05",
         "05-05-2018",
         "2018-05-05",
         "Television"
        ],
        [
         "2018-06-25",
         "25-06-2018",
         "2018-06-25",
         "Television"
        ],
        [
         "2018-09-01",
         "01-09-2018",
         "2018-09-01",
         "Desk"
        ],
        [
         "2018-10-05",
         "05-10-2018",
         "2018-10-05",
         "Home Theater"
        ],
        [
         "2018-11-25",
         "25-11-2018",
         "2018-11-25",
         "Video Games"
        ],
        [
         "2018-12-12",
         "12-12-2018",
         "2018-12-12",
         "Television"
        ],
        [
         "2019-01-15",
         "15-01-2019",
         "2019-01-15",
         "Home Theater"
        ],
        [
         "2019-02-01",
         "01-02-2019",
         "2019-02-01",
         "Home Theater"
        ],
        [
         "2019-03-24",
         "24-03-2019",
         "2019-03-24",
         "Video Games"
        ],
        [
         "2019-04-10",
         "10-04-2019",
         "2019-04-10",
         "Television"
        ],
        [
         "2019-05-14",
         "14-05-2019",
         "2019-05-14",
         "Television"
        ],
        [
         "2019-05-31",
         "31-05-2019",
         "2019-05-31",
         "Home Theater"
        ],
        [
         "2019-06-17",
         "17-06-2019",
         "2019-06-17",
         "Desk"
        ],
        [
         "2019-07-21",
         "21-07-2019",
         "2019-07-21",
         "Video Games"
        ],
        [
         "2019-08-07",
         "07-08-2019",
         "2019-08-07",
         "Video Games"
        ],
        [
         "2019-09-10",
         "10-09-2019",
         "2019-09-10",
         "Television"
        ],
        [
         "2019-10-31",
         "31-10-2019",
         "2019-10-31",
         "Television"
        ],
        [
         "2019-11-17",
         "17-11-2019",
         "2019-11-17",
         "Home Theater"
        ],
        [
         "2019-12-04",
         "04-12-2019",
         "2019-12-04",
         "Home Theater"
        ],
        [
         "2019-12-21",
         "21-12-2019",
         "2019-12-21",
         "Home Theater"
        ],
        [
         "2018-01-06",
         "06-01-2018",
         "2018-01-06",
         "Television"
        ],
        [
         "2018-04-01",
         "01-04-2018",
         "2018-04-01",
         "Home Theater"
        ],
        [
         "2018-06-08",
         "08-06-2018",
         "2018-06-08",
         "Home Theater"
        ],
        [
         "2018-07-12",
         "12-07-2018",
         "2018-07-12",
         "Home Theater"
        ],
        [
         "2018-07-29",
         "29-07-2018",
         "2018-07-29",
         "Home Theater"
        ],
        [
         "2018-08-15",
         "15-08-2018",
         "2018-08-15",
         "Television"
        ],
        [
         "2018-09-18",
         "18-09-2018",
         "2018-09-18",
         "Video Games"
        ],
        [
         "2018-10-22",
         "22-10-2018",
         "2018-10-22",
         "Cell Phone"
        ],
        [
         "2018-11-08",
         "08-11-2018",
         "2018-11-08",
         "Cell Phone"
        ],
        [
         "2018-12-29",
         "29-12-2018",
         "2018-12-29",
         "Video Games"
        ],
        [
         "2019-02-18",
         "18-02-2019",
         "2019-02-18",
         "Home Theater"
        ],
        [
         "2019-04-27",
         "27-04-2019",
         "2019-04-27",
         "Cell Phone"
        ],
        [
         "2019-07-04",
         "04-07-2019",
         "2019-07-04",
         "Video Games"
        ],
        [
         "2018-03-15",
         "15-03-2018",
         "2018-03-15",
         "Television"
        ],
        [
         "2018-05-22",
         "22-05-2018",
         "2018-05-22",
         "Television"
        ],
        [
         "2019-03-07",
         "07-03-2019",
         "2019-03-07",
         "Home Theater"
        ],
        [
         "2019-08-24",
         "24-08-2019",
         "2019-08-24",
         "Desk"
        ],
        [
         "2019-09-27",
         "27-09-2019",
         "2019-09-27",
         "Cell Phone"
        ],
        [
         "2019-10-14",
         "14-10-2019",
         "2019-10-14",
         "Home Theater"
        ]
       ],
       "datasetInfos": [],
       "dbfsResultPath": null,
       "isJsonSchema": true,
       "metadata": {},
       "overflow": false,
       "plotOptions": {
        "customPlotOptions": {},
        "displayType": "table",
        "pivotAggregation": null,
        "pivotColumns": null,
        "xColumns": null,
        "yColumns": null
       },
       "removedWidgets": [],
       "schema": [
        {
         "metadata": "{}",
         "name": "order_date",
         "type": "\"string\""
        },
        {
         "metadata": "{}",
         "name": "date_format_result",
         "type": "\"string\""
        },
        {
         "metadata": "{}",
         "name": "to_date_result",
         "type": "\"date\""
        },
        {
         "metadata": "{}",
         "name": "item",
         "type": "\"string\""
        }
       ],
       "type": "table"
      }
     },
     "output_type": "display_data"
    }
   ],
   "source": [
    "%sql\n",
    "select \n",
    "order_date,\n",
    "date_format(order_date,\"dd-MM-yyyy\") as date_format_result,\n",
    "to_date(order_date,'yyyy-MM-dd') as to_date_result, \n",
    "item\n",
    "from sales_data"
   ]
  },
  {
   "cell_type": "markdown",
   "metadata": {
    "application/vnd.databricks.v1+cell": {
     "cellMetadata": {},
     "inputWidgets": {},
     "nuid": "2ae773df-b415-44ee-b1c3-d2c374a5e0d6",
     "showTitle": false,
     "tableResultSettingsMap": {},
     "title": ""
    }
   },
   "source": [
    "\n",
    "**Date Addition and subtraction**\n",
    "\n",
    "- date_add(column, days) - Add days to a date column\n",
    "- date_sub(column, days) - Subtract days from a date column\n",
    "- datediff(end, start) - Return number of days from start to end"
   ]
  },
  {
   "cell_type": "code",
   "execution_count": 0,
   "metadata": {
    "application/vnd.databricks.v1+cell": {
     "cellMetadata": {
      "byteLimit": 2048000,
      "implicitDf": true,
      "rowLimit": 10000
     },
     "inputWidgets": {},
     "nuid": "3fe61fea-de9e-4933-bd3a-d8313a246df7",
     "showTitle": false,
     "tableResultSettingsMap": {},
     "title": ""
    }
   },
   "outputs": [
    {
     "output_type": "display_data",
     "data": {
      "text/html": [
       "<style scoped>\n",
       "  .table-result-container {\n",
       "    max-height: 300px;\n",
       "    overflow: auto;\n",
       "  }\n",
       "  table, th, td {\n",
       "    border: 1px solid black;\n",
       "    border-collapse: collapse;\n",
       "  }\n",
       "  th, td {\n",
       "    padding: 5px;\n",
       "  }\n",
       "  th {\n",
       "    text-align: left;\n",
       "  }\n",
       "</style><div class='table-result-container'><table class='table-result'><thead style='background-color: white'><tr><th>order_date</th><th>added_2_day</th><th>subtracted_5_day</th><th>difference_of_date</th></tr></thead><tbody><tr><td>2018-01-23</td><td>2018-01-25</td><td>2018-01-18</td><td>2485</td></tr><tr><td>2018-02-09</td><td>2018-02-11</td><td>2018-02-04</td><td>2468</td></tr><tr><td>2018-02-26</td><td>2018-02-28</td><td>2018-02-21</td><td>2451</td></tr><tr><td>2018-04-18</td><td>2018-04-20</td><td>2018-04-13</td><td>2400</td></tr><tr><td>2018-05-05</td><td>2018-05-07</td><td>2018-04-30</td><td>2383</td></tr><tr><td>2018-06-25</td><td>2018-06-27</td><td>2018-06-20</td><td>2332</td></tr><tr><td>2018-09-01</td><td>2018-09-03</td><td>2018-08-27</td><td>2264</td></tr><tr><td>2018-10-05</td><td>2018-10-07</td><td>2018-09-30</td><td>2230</td></tr><tr><td>2018-11-25</td><td>2018-11-27</td><td>2018-11-20</td><td>2179</td></tr><tr><td>2018-12-12</td><td>2018-12-14</td><td>2018-12-07</td><td>2162</td></tr><tr><td>2019-01-15</td><td>2019-01-17</td><td>2019-01-10</td><td>2128</td></tr><tr><td>2019-02-01</td><td>2019-02-03</td><td>2019-01-27</td><td>2111</td></tr><tr><td>2019-03-24</td><td>2019-03-26</td><td>2019-03-19</td><td>2060</td></tr><tr><td>2019-04-10</td><td>2019-04-12</td><td>2019-04-05</td><td>2043</td></tr><tr><td>2019-05-14</td><td>2019-05-16</td><td>2019-05-09</td><td>2009</td></tr><tr><td>2019-05-31</td><td>2019-06-02</td><td>2019-05-26</td><td>1992</td></tr><tr><td>2019-06-17</td><td>2019-06-19</td><td>2019-06-12</td><td>1975</td></tr><tr><td>2019-07-21</td><td>2019-07-23</td><td>2019-07-16</td><td>1941</td></tr><tr><td>2019-08-07</td><td>2019-08-09</td><td>2019-08-02</td><td>1924</td></tr><tr><td>2019-09-10</td><td>2019-09-12</td><td>2019-09-05</td><td>1890</td></tr><tr><td>2019-10-31</td><td>2019-11-02</td><td>2019-10-26</td><td>1839</td></tr><tr><td>2019-11-17</td><td>2019-11-19</td><td>2019-11-12</td><td>1822</td></tr><tr><td>2019-12-04</td><td>2019-12-06</td><td>2019-11-29</td><td>1805</td></tr><tr><td>2019-12-21</td><td>2019-12-23</td><td>2019-12-16</td><td>1788</td></tr><tr><td>2018-01-06</td><td>2018-01-08</td><td>2018-01-01</td><td>2502</td></tr><tr><td>2018-04-01</td><td>2018-04-03</td><td>2018-03-27</td><td>2417</td></tr><tr><td>2018-06-08</td><td>2018-06-10</td><td>2018-06-03</td><td>2349</td></tr><tr><td>2018-07-12</td><td>2018-07-14</td><td>2018-07-07</td><td>2315</td></tr><tr><td>2018-07-29</td><td>2018-07-31</td><td>2018-07-24</td><td>2298</td></tr><tr><td>2018-08-15</td><td>2018-08-17</td><td>2018-08-10</td><td>2281</td></tr><tr><td>2018-09-18</td><td>2018-09-20</td><td>2018-09-13</td><td>2247</td></tr><tr><td>2018-10-22</td><td>2018-10-24</td><td>2018-10-17</td><td>2213</td></tr><tr><td>2018-11-08</td><td>2018-11-10</td><td>2018-11-03</td><td>2196</td></tr><tr><td>2018-12-29</td><td>2018-12-31</td><td>2018-12-24</td><td>2145</td></tr><tr><td>2019-02-18</td><td>2019-02-20</td><td>2019-02-13</td><td>2094</td></tr><tr><td>2019-04-27</td><td>2019-04-29</td><td>2019-04-22</td><td>2026</td></tr><tr><td>2019-07-04</td><td>2019-07-06</td><td>2019-06-29</td><td>1958</td></tr><tr><td>2018-03-15</td><td>2018-03-17</td><td>2018-03-10</td><td>2434</td></tr><tr><td>2018-05-22</td><td>2018-05-24</td><td>2018-05-17</td><td>2366</td></tr><tr><td>2019-03-07</td><td>2019-03-09</td><td>2019-03-02</td><td>2077</td></tr><tr><td>2019-08-24</td><td>2019-08-26</td><td>2019-08-19</td><td>1907</td></tr><tr><td>2019-09-27</td><td>2019-09-29</td><td>2019-09-22</td><td>1873</td></tr><tr><td>2019-10-14</td><td>2019-10-16</td><td>2019-10-09</td><td>1856</td></tr></tbody></table></div>"
      ]
     },
     "metadata": {
      "application/vnd.databricks.v1+output": {
       "addedWidgets": {},
       "aggData": [],
       "aggError": "",
       "aggOverflow": false,
       "aggSchema": [],
       "aggSeriesLimitReached": false,
       "aggType": "",
       "arguments": {},
       "columnCustomDisplayInfos": {},
       "data": [
        [
         "2018-01-23",
         "2018-01-25",
         "2018-01-18",
         2485
        ],
        [
         "2018-02-09",
         "2018-02-11",
         "2018-02-04",
         2468
        ],
        [
         "2018-02-26",
         "2018-02-28",
         "2018-02-21",
         2451
        ],
        [
         "2018-04-18",
         "2018-04-20",
         "2018-04-13",
         2400
        ],
        [
         "2018-05-05",
         "2018-05-07",
         "2018-04-30",
         2383
        ],
        [
         "2018-06-25",
         "2018-06-27",
         "2018-06-20",
         2332
        ],
        [
         "2018-09-01",
         "2018-09-03",
         "2018-08-27",
         2264
        ],
        [
         "2018-10-05",
         "2018-10-07",
         "2018-09-30",
         2230
        ],
        [
         "2018-11-25",
         "2018-11-27",
         "2018-11-20",
         2179
        ],
        [
         "2018-12-12",
         "2018-12-14",
         "2018-12-07",
         2162
        ],
        [
         "2019-01-15",
         "2019-01-17",
         "2019-01-10",
         2128
        ],
        [
         "2019-02-01",
         "2019-02-03",
         "2019-01-27",
         2111
        ],
        [
         "2019-03-24",
         "2019-03-26",
         "2019-03-19",
         2060
        ],
        [
         "2019-04-10",
         "2019-04-12",
         "2019-04-05",
         2043
        ],
        [
         "2019-05-14",
         "2019-05-16",
         "2019-05-09",
         2009
        ],
        [
         "2019-05-31",
         "2019-06-02",
         "2019-05-26",
         1992
        ],
        [
         "2019-06-17",
         "2019-06-19",
         "2019-06-12",
         1975
        ],
        [
         "2019-07-21",
         "2019-07-23",
         "2019-07-16",
         1941
        ],
        [
         "2019-08-07",
         "2019-08-09",
         "2019-08-02",
         1924
        ],
        [
         "2019-09-10",
         "2019-09-12",
         "2019-09-05",
         1890
        ],
        [
         "2019-10-31",
         "2019-11-02",
         "2019-10-26",
         1839
        ],
        [
         "2019-11-17",
         "2019-11-19",
         "2019-11-12",
         1822
        ],
        [
         "2019-12-04",
         "2019-12-06",
         "2019-11-29",
         1805
        ],
        [
         "2019-12-21",
         "2019-12-23",
         "2019-12-16",
         1788
        ],
        [
         "2018-01-06",
         "2018-01-08",
         "2018-01-01",
         2502
        ],
        [
         "2018-04-01",
         "2018-04-03",
         "2018-03-27",
         2417
        ],
        [
         "2018-06-08",
         "2018-06-10",
         "2018-06-03",
         2349
        ],
        [
         "2018-07-12",
         "2018-07-14",
         "2018-07-07",
         2315
        ],
        [
         "2018-07-29",
         "2018-07-31",
         "2018-07-24",
         2298
        ],
        [
         "2018-08-15",
         "2018-08-17",
         "2018-08-10",
         2281
        ],
        [
         "2018-09-18",
         "2018-09-20",
         "2018-09-13",
         2247
        ],
        [
         "2018-10-22",
         "2018-10-24",
         "2018-10-17",
         2213
        ],
        [
         "2018-11-08",
         "2018-11-10",
         "2018-11-03",
         2196
        ],
        [
         "2018-12-29",
         "2018-12-31",
         "2018-12-24",
         2145
        ],
        [
         "2019-02-18",
         "2019-02-20",
         "2019-02-13",
         2094
        ],
        [
         "2019-04-27",
         "2019-04-29",
         "2019-04-22",
         2026
        ],
        [
         "2019-07-04",
         "2019-07-06",
         "2019-06-29",
         1958
        ],
        [
         "2018-03-15",
         "2018-03-17",
         "2018-03-10",
         2434
        ],
        [
         "2018-05-22",
         "2018-05-24",
         "2018-05-17",
         2366
        ],
        [
         "2019-03-07",
         "2019-03-09",
         "2019-03-02",
         2077
        ],
        [
         "2019-08-24",
         "2019-08-26",
         "2019-08-19",
         1907
        ],
        [
         "2019-09-27",
         "2019-09-29",
         "2019-09-22",
         1873
        ],
        [
         "2019-10-14",
         "2019-10-16",
         "2019-10-09",
         1856
        ]
       ],
       "datasetInfos": [],
       "dbfsResultPath": null,
       "isJsonSchema": true,
       "metadata": {},
       "overflow": false,
       "plotOptions": {
        "customPlotOptions": {},
        "displayType": "table",
        "pivotAggregation": null,
        "pivotColumns": null,
        "xColumns": null,
        "yColumns": null
       },
       "removedWidgets": [],
       "schema": [
        {
         "metadata": "{}",
         "name": "order_date",
         "type": "\"string\""
        },
        {
         "metadata": "{}",
         "name": "added_2_day",
         "type": "\"date\""
        },
        {
         "metadata": "{}",
         "name": "subtracted_5_day",
         "type": "\"date\""
        },
        {
         "metadata": "{}",
         "name": "difference_of_date",
         "type": "\"integer\""
        }
       ],
       "type": "table"
      }
     },
     "output_type": "display_data"
    }
   ],
   "source": [
    "%sql\n",
    "\n",
    "select order_date,date_add(order_date, 2) as added_2_day, date_sub(order_date, 5) as subtracted_5_day, date_diff(current_date(),order_date) difference_of_date\n",
    "from sales_data"
   ]
  },
  {
   "cell_type": "code",
   "execution_count": 0,
   "metadata": {
    "application/vnd.databricks.v1+cell": {
     "cellMetadata": {
      "byteLimit": 2048000,
      "implicitDf": true,
      "rowLimit": 10000
     },
     "inputWidgets": {},
     "nuid": "f7fc9c19-c306-4416-b23c-259db8680eae",
     "showTitle": false,
     "tableResultSettingsMap": {},
     "title": ""
    }
   },
   "outputs": [
    {
     "output_type": "display_data",
     "data": {
      "text/html": [
       "<style scoped>\n",
       "  .table-result-container {\n",
       "    max-height: 300px;\n",
       "    overflow: auto;\n",
       "  }\n",
       "  table, th, td {\n",
       "    border: 1px solid black;\n",
       "    border-collapse: collapse;\n",
       "  }\n",
       "  th, td {\n",
       "    padding: 5px;\n",
       "  }\n",
       "  th {\n",
       "    text-align: left;\n",
       "  }\n",
       "</style><div class='table-result-container'><table class='table-result'><thead style='background-color: white'><tr><th>order_date</th><th>added_1_month</th><th>subtracted_1_month</th></tr></thead><tbody><tr><td>2018-01-23</td><td>2018-02-23</td><td>2017-12-23</td></tr><tr><td>2018-02-09</td><td>2018-03-09</td><td>2018-01-09</td></tr><tr><td>2018-02-26</td><td>2018-03-26</td><td>2018-01-26</td></tr><tr><td>2018-04-18</td><td>2018-05-18</td><td>2018-03-18</td></tr><tr><td>2018-05-05</td><td>2018-06-05</td><td>2018-04-05</td></tr><tr><td>2018-06-25</td><td>2018-07-25</td><td>2018-05-25</td></tr><tr><td>2018-09-01</td><td>2018-10-01</td><td>2018-08-01</td></tr><tr><td>2018-10-05</td><td>2018-11-05</td><td>2018-09-05</td></tr><tr><td>2018-11-25</td><td>2018-12-25</td><td>2018-10-25</td></tr><tr><td>2018-12-12</td><td>2019-01-12</td><td>2018-11-12</td></tr><tr><td>2019-01-15</td><td>2019-02-15</td><td>2018-12-15</td></tr><tr><td>2019-02-01</td><td>2019-03-01</td><td>2019-01-01</td></tr><tr><td>2019-03-24</td><td>2019-04-24</td><td>2019-02-24</td></tr><tr><td>2019-04-10</td><td>2019-05-10</td><td>2019-03-10</td></tr><tr><td>2019-05-14</td><td>2019-06-14</td><td>2019-04-14</td></tr><tr><td>2019-05-31</td><td>2019-06-30</td><td>2019-04-30</td></tr><tr><td>2019-06-17</td><td>2019-07-17</td><td>2019-05-17</td></tr><tr><td>2019-07-21</td><td>2019-08-21</td><td>2019-06-21</td></tr><tr><td>2019-08-07</td><td>2019-09-07</td><td>2019-07-07</td></tr><tr><td>2019-09-10</td><td>2019-10-10</td><td>2019-08-10</td></tr><tr><td>2019-10-31</td><td>2019-11-30</td><td>2019-09-30</td></tr><tr><td>2019-11-17</td><td>2019-12-17</td><td>2019-10-17</td></tr><tr><td>2019-12-04</td><td>2020-01-04</td><td>2019-11-04</td></tr><tr><td>2019-12-21</td><td>2020-01-21</td><td>2019-11-21</td></tr><tr><td>2018-01-06</td><td>2018-02-06</td><td>2017-12-06</td></tr><tr><td>2018-04-01</td><td>2018-05-01</td><td>2018-03-01</td></tr><tr><td>2018-06-08</td><td>2018-07-08</td><td>2018-05-08</td></tr><tr><td>2018-07-12</td><td>2018-08-12</td><td>2018-06-12</td></tr><tr><td>2018-07-29</td><td>2018-08-29</td><td>2018-06-29</td></tr><tr><td>2018-08-15</td><td>2018-09-15</td><td>2018-07-15</td></tr><tr><td>2018-09-18</td><td>2018-10-18</td><td>2018-08-18</td></tr><tr><td>2018-10-22</td><td>2018-11-22</td><td>2018-09-22</td></tr><tr><td>2018-11-08</td><td>2018-12-08</td><td>2018-10-08</td></tr><tr><td>2018-12-29</td><td>2019-01-29</td><td>2018-11-29</td></tr><tr><td>2019-02-18</td><td>2019-03-18</td><td>2019-01-18</td></tr><tr><td>2019-04-27</td><td>2019-05-27</td><td>2019-03-27</td></tr><tr><td>2019-07-04</td><td>2019-08-04</td><td>2019-06-04</td></tr><tr><td>2018-03-15</td><td>2018-04-15</td><td>2018-02-15</td></tr><tr><td>2018-05-22</td><td>2018-06-22</td><td>2018-04-22</td></tr><tr><td>2019-03-07</td><td>2019-04-07</td><td>2019-02-07</td></tr><tr><td>2019-08-24</td><td>2019-09-24</td><td>2019-07-24</td></tr><tr><td>2019-09-27</td><td>2019-10-27</td><td>2019-08-27</td></tr><tr><td>2019-10-14</td><td>2019-11-14</td><td>2019-09-14</td></tr></tbody></table></div>"
      ]
     },
     "metadata": {
      "application/vnd.databricks.v1+output": {
       "addedWidgets": {},
       "aggData": [],
       "aggError": "",
       "aggOverflow": false,
       "aggSchema": [],
       "aggSeriesLimitReached": false,
       "aggType": "",
       "arguments": {},
       "columnCustomDisplayInfos": {},
       "data": [
        [
         "2018-01-23",
         "2018-02-23",
         "2017-12-23"
        ],
        [
         "2018-02-09",
         "2018-03-09",
         "2018-01-09"
        ],
        [
         "2018-02-26",
         "2018-03-26",
         "2018-01-26"
        ],
        [
         "2018-04-18",
         "2018-05-18",
         "2018-03-18"
        ],
        [
         "2018-05-05",
         "2018-06-05",
         "2018-04-05"
        ],
        [
         "2018-06-25",
         "2018-07-25",
         "2018-05-25"
        ],
        [
         "2018-09-01",
         "2018-10-01",
         "2018-08-01"
        ],
        [
         "2018-10-05",
         "2018-11-05",
         "2018-09-05"
        ],
        [
         "2018-11-25",
         "2018-12-25",
         "2018-10-25"
        ],
        [
         "2018-12-12",
         "2019-01-12",
         "2018-11-12"
        ],
        [
         "2019-01-15",
         "2019-02-15",
         "2018-12-15"
        ],
        [
         "2019-02-01",
         "2019-03-01",
         "2019-01-01"
        ],
        [
         "2019-03-24",
         "2019-04-24",
         "2019-02-24"
        ],
        [
         "2019-04-10",
         "2019-05-10",
         "2019-03-10"
        ],
        [
         "2019-05-14",
         "2019-06-14",
         "2019-04-14"
        ],
        [
         "2019-05-31",
         "2019-06-30",
         "2019-04-30"
        ],
        [
         "2019-06-17",
         "2019-07-17",
         "2019-05-17"
        ],
        [
         "2019-07-21",
         "2019-08-21",
         "2019-06-21"
        ],
        [
         "2019-08-07",
         "2019-09-07",
         "2019-07-07"
        ],
        [
         "2019-09-10",
         "2019-10-10",
         "2019-08-10"
        ],
        [
         "2019-10-31",
         "2019-11-30",
         "2019-09-30"
        ],
        [
         "2019-11-17",
         "2019-12-17",
         "2019-10-17"
        ],
        [
         "2019-12-04",
         "2020-01-04",
         "2019-11-04"
        ],
        [
         "2019-12-21",
         "2020-01-21",
         "2019-11-21"
        ],
        [
         "2018-01-06",
         "2018-02-06",
         "2017-12-06"
        ],
        [
         "2018-04-01",
         "2018-05-01",
         "2018-03-01"
        ],
        [
         "2018-06-08",
         "2018-07-08",
         "2018-05-08"
        ],
        [
         "2018-07-12",
         "2018-08-12",
         "2018-06-12"
        ],
        [
         "2018-07-29",
         "2018-08-29",
         "2018-06-29"
        ],
        [
         "2018-08-15",
         "2018-09-15",
         "2018-07-15"
        ],
        [
         "2018-09-18",
         "2018-10-18",
         "2018-08-18"
        ],
        [
         "2018-10-22",
         "2018-11-22",
         "2018-09-22"
        ],
        [
         "2018-11-08",
         "2018-12-08",
         "2018-10-08"
        ],
        [
         "2018-12-29",
         "2019-01-29",
         "2018-11-29"
        ],
        [
         "2019-02-18",
         "2019-03-18",
         "2019-01-18"
        ],
        [
         "2019-04-27",
         "2019-05-27",
         "2019-03-27"
        ],
        [
         "2019-07-04",
         "2019-08-04",
         "2019-06-04"
        ],
        [
         "2018-03-15",
         "2018-04-15",
         "2018-02-15"
        ],
        [
         "2018-05-22",
         "2018-06-22",
         "2018-04-22"
        ],
        [
         "2019-03-07",
         "2019-04-07",
         "2019-02-07"
        ],
        [
         "2019-08-24",
         "2019-09-24",
         "2019-07-24"
        ],
        [
         "2019-09-27",
         "2019-10-27",
         "2019-08-27"
        ],
        [
         "2019-10-14",
         "2019-11-14",
         "2019-09-14"
        ]
       ],
       "datasetInfos": [],
       "dbfsResultPath": null,
       "isJsonSchema": true,
       "metadata": {},
       "overflow": false,
       "plotOptions": {
        "customPlotOptions": {},
        "displayType": "table",
        "pivotAggregation": null,
        "pivotColumns": null,
        "xColumns": null,
        "yColumns": null
       },
       "removedWidgets": [],
       "schema": [
        {
         "metadata": "{}",
         "name": "order_date",
         "type": "\"string\""
        },
        {
         "metadata": "{}",
         "name": "added_1_month",
         "type": "\"date\""
        },
        {
         "metadata": "{}",
         "name": "subtracted_1_month",
         "type": "\"date\""
        }
       ],
       "type": "table"
      }
     },
     "output_type": "display_data"
    }
   ],
   "source": [
    "%sql\n",
    "select order_date, add_months(order_date,1) added_1_month,add_months(order_date,-1) subtracted_1_month  from sales_data"
   ]
  },
  {
   "cell_type": "code",
   "execution_count": 0,
   "metadata": {
    "application/vnd.databricks.v1+cell": {
     "cellMetadata": {
      "byteLimit": 2048000,
      "implicitDf": true,
      "rowLimit": 10000
     },
     "inputWidgets": {},
     "nuid": "f19ae2d9-8b53-4d44-968b-bc7fa910d853",
     "showTitle": false,
     "tableResultSettingsMap": {},
     "title": ""
    }
   },
   "outputs": [
    {
     "output_type": "display_data",
     "data": {
      "text/html": [
       "<style scoped>\n",
       "  .table-result-container {\n",
       "    max-height: 300px;\n",
       "    overflow: auto;\n",
       "  }\n",
       "  table, th, td {\n",
       "    border: 1px solid black;\n",
       "    border-collapse: collapse;\n",
       "  }\n",
       "  th, td {\n",
       "    padding: 5px;\n",
       "  }\n",
       "  th {\n",
       "    text-align: left;\n",
       "  }\n",
       "</style><div class='table-result-container'><table class='table-result'><thead style='background-color: white'><tr><th>now()</th><th>year(now())</th><th>quarter(now())</th><th>month(now())</th><th>day(now())</th><th>dayofweek(now())</th><th>dayofmonth(now())</th><th>dayofyear(now())</th></tr></thead><tbody><tr><td>2024-11-12T09:06:18.685+0000</td><td>2024</td><td>4</td><td>11</td><td>12</td><td>3</td><td>12</td><td>317</td></tr></tbody></table></div>"
      ]
     },
     "metadata": {
      "application/vnd.databricks.v1+output": {
       "addedWidgets": {},
       "aggData": [],
       "aggError": "",
       "aggOverflow": false,
       "aggSchema": [],
       "aggSeriesLimitReached": false,
       "aggType": "",
       "arguments": {},
       "columnCustomDisplayInfos": {},
       "data": [
        [
         "2024-11-12T09:06:18.685+0000",
         2024,
         4,
         11,
         12,
         3,
         12,
         317
        ]
       ],
       "datasetInfos": [],
       "dbfsResultPath": null,
       "isJsonSchema": true,
       "metadata": {},
       "overflow": false,
       "plotOptions": {
        "customPlotOptions": {},
        "displayType": "table",
        "pivotAggregation": null,
        "pivotColumns": null,
        "xColumns": null,
        "yColumns": null
       },
       "removedWidgets": [],
       "schema": [
        {
         "metadata": "{\"__autoGeneratedAlias\":\"true\"}",
         "name": "now()",
         "type": "\"timestamp\""
        },
        {
         "metadata": "{\"__autoGeneratedAlias\":\"true\"}",
         "name": "year(now())",
         "type": "\"integer\""
        },
        {
         "metadata": "{\"__autoGeneratedAlias\":\"true\"}",
         "name": "quarter(now())",
         "type": "\"integer\""
        },
        {
         "metadata": "{\"__autoGeneratedAlias\":\"true\"}",
         "name": "month(now())",
         "type": "\"integer\""
        },
        {
         "metadata": "{\"__autoGeneratedAlias\":\"true\"}",
         "name": "day(now())",
         "type": "\"integer\""
        },
        {
         "metadata": "{\"__autoGeneratedAlias\":\"true\"}",
         "name": "dayofweek(now())",
         "type": "\"integer\""
        },
        {
         "metadata": "{\"__autoGeneratedAlias\":\"true\"}",
         "name": "dayofmonth(now())",
         "type": "\"integer\""
        },
        {
         "metadata": "{\"__autoGeneratedAlias\":\"true\"}",
         "name": "dayofyear(now())",
         "type": "\"integer\""
        }
       ],
       "type": "table"
      }
     },
     "output_type": "display_data"
    }
   ],
   "source": [
    "%sql\n",
    "\n",
    "select now(),year(now()), quarter(now()), month(now()), day(now()), dayofweek(now()),dayofmonth(now()),dayofyear(now())"
   ]
  },
  {
   "cell_type": "code",
   "execution_count": 0,
   "metadata": {
    "application/vnd.databricks.v1+cell": {
     "cellMetadata": {
      "byteLimit": 2048000,
      "implicitDf": true,
      "rowLimit": 10000
     },
     "inputWidgets": {},
     "nuid": "33f09ff1-16c1-4db3-8011-ea9326b3fbc1",
     "showTitle": false,
     "tableResultSettingsMap": {},
     "title": ""
    }
   },
   "outputs": [
    {
     "output_type": "display_data",
     "data": {
      "text/html": [
       "<style scoped>\n",
       "  .table-result-container {\n",
       "    max-height: 300px;\n",
       "    overflow: auto;\n",
       "  }\n",
       "  table, th, td {\n",
       "    border: 1px solid black;\n",
       "    border-collapse: collapse;\n",
       "  }\n",
       "  th, td {\n",
       "    padding: 5px;\n",
       "  }\n",
       "  th {\n",
       "    text-align: left;\n",
       "  }\n",
       "</style><div class='table-result-container'><table class='table-result'><thead style='background-color: white'><tr><th>trunc(now(), mon)</th><th>date_trunc(year, now())</th><th>date_trunc(month, now())</th><th>date_trunc(day, now())</th><th>date_trunc(hour, now())</th><th>date_trunc(minute, now())</th></tr></thead><tbody><tr><td>2024-11-01</td><td>2024-01-01T00:00:00.000+0000</td><td>2024-11-01T00:00:00.000+0000</td><td>2024-11-12T00:00:00.000+0000</td><td>2024-11-12T09:00:00.000+0000</td><td>2024-11-12T09:15:00.000+0000</td></tr></tbody></table></div>"
      ]
     },
     "metadata": {
      "application/vnd.databricks.v1+output": {
       "addedWidgets": {},
       "aggData": [],
       "aggError": "",
       "aggOverflow": false,
       "aggSchema": [],
       "aggSeriesLimitReached": false,
       "aggType": "",
       "arguments": {},
       "columnCustomDisplayInfos": {},
       "data": [
        [
         "2024-11-01",
         "2024-01-01T00:00:00.000+0000",
         "2024-11-01T00:00:00.000+0000",
         "2024-11-12T00:00:00.000+0000",
         "2024-11-12T09:00:00.000+0000",
         "2024-11-12T09:15:00.000+0000"
        ]
       ],
       "datasetInfos": [],
       "dbfsResultPath": null,
       "isJsonSchema": true,
       "metadata": {},
       "overflow": false,
       "plotOptions": {
        "customPlotOptions": {},
        "displayType": "table",
        "pivotAggregation": null,
        "pivotColumns": null,
        "xColumns": null,
        "yColumns": null
       },
       "removedWidgets": [],
       "schema": [
        {
         "metadata": "{\"__autoGeneratedAlias\":\"true\"}",
         "name": "trunc(now(), mon)",
         "type": "\"date\""
        },
        {
         "metadata": "{\"__autoGeneratedAlias\":\"true\"}",
         "name": "date_trunc(year, now())",
         "type": "\"timestamp\""
        },
        {
         "metadata": "{\"__autoGeneratedAlias\":\"true\"}",
         "name": "date_trunc(month, now())",
         "type": "\"timestamp\""
        },
        {
         "metadata": "{\"__autoGeneratedAlias\":\"true\"}",
         "name": "date_trunc(day, now())",
         "type": "\"timestamp\""
        },
        {
         "metadata": "{\"__autoGeneratedAlias\":\"true\"}",
         "name": "date_trunc(hour, now())",
         "type": "\"timestamp\""
        },
        {
         "metadata": "{\"__autoGeneratedAlias\":\"true\"}",
         "name": "date_trunc(minute, now())",
         "type": "\"timestamp\""
        }
       ],
       "type": "table"
      }
     },
     "output_type": "display_data"
    }
   ],
   "source": [
    "%sql \n",
    "select trunc(now(),\"mon\"), date_trunc(\"year\", now()),date_trunc(\"month\", now()),date_trunc(\"day\", now()),date_trunc(\"hour\", now()),date_trunc(\"minute\", now())"
   ]
  },
  {
   "cell_type": "code",
   "execution_count": 0,
   "metadata": {
    "application/vnd.databricks.v1+cell": {
     "cellMetadata": {
      "byteLimit": 2048000,
      "implicitDf": true,
      "rowLimit": 10000
     },
     "inputWidgets": {},
     "nuid": "84e985ec-7a82-445b-9347-188401149ba7",
     "showTitle": false,
     "tableResultSettingsMap": {},
     "title": ""
    }
   },
   "outputs": [
    {
     "output_type": "display_data",
     "data": {
      "text/html": [
       "<style scoped>\n",
       "  .table-result-container {\n",
       "    max-height: 300px;\n",
       "    overflow: auto;\n",
       "  }\n",
       "  table, th, td {\n",
       "    border: 1px solid black;\n",
       "    border-collapse: collapse;\n",
       "  }\n",
       "  th, td {\n",
       "    padding: 5px;\n",
       "  }\n",
       "  th {\n",
       "    text-align: left;\n",
       "  }\n",
       "</style><div class='table-result-container'><table class='table-result'><thead style='background-color: white'><tr><th>(now() - current_timestamp())</th></tr></thead><tbody><tr><td>Map(zero -> true, seconds -> 0, negative -> false, nano -> 0, units -> List(SECONDS, NANOS))</td></tr></tbody></table></div>"
      ]
     },
     "metadata": {
      "application/vnd.databricks.v1+output": {
       "addedWidgets": {},
       "aggData": [],
       "aggError": "",
       "aggOverflow": false,
       "aggSchema": [],
       "aggSeriesLimitReached": false,
       "aggType": "",
       "arguments": {},
       "columnCustomDisplayInfos": {},
       "data": [
        [
         {
          "nano": 0,
          "negative": false,
          "seconds": 0,
          "units": [
           "SECONDS",
           "NANOS"
          ],
          "zero": true
         }
        ]
       ],
       "datasetInfos": [],
       "dbfsResultPath": null,
       "isJsonSchema": true,
       "metadata": {},
       "overflow": false,
       "plotOptions": {
        "customPlotOptions": {},
        "displayType": "table",
        "pivotAggregation": null,
        "pivotColumns": null,
        "xColumns": null,
        "yColumns": null
       },
       "removedWidgets": [],
       "schema": [
        {
         "metadata": "{\"__autoGeneratedAlias\":\"true\"}",
         "name": "(now() - current_timestamp())",
         "type": "\"interval day to second\""
        }
       ],
       "type": "table"
      }
     },
     "output_type": "display_data"
    }
   ],
   "source": [
    "%sql\n",
    "\n",
    "select now() - current_timestamp()"
   ]
  },
  {
   "cell_type": "code",
   "execution_count": 0,
   "metadata": {
    "application/vnd.databricks.v1+cell": {
     "cellMetadata": {
      "byteLimit": 2048000,
      "rowLimit": 10000
     },
     "inputWidgets": {},
     "nuid": "d0fe675b-d8b0-4975-80a6-72e97bbbf108",
     "showTitle": false,
     "tableResultSettingsMap": {},
     "title": ""
    }
   },
   "outputs": [
    {
     "output_type": "stream",
     "name": "stderr",
     "output_type": "stream",
     "text": [
      "2024-11-12 09:19:44,363 - __main__ - INFO - This is an informational message.\n"
     ]
    }
   ],
   "source": [
    "import logging\n",
    "\n",
    "# Set up basic logging configuration\n",
    "logging.basicConfig(\n",
    "    level=logging.INFO,   # Set the log level to INFO\n",
    "    format='%(asctime)s - %(name)s - %(levelname)s - %(message)s'  # Log format\n",
    ")\n",
    "\n",
    "# Create a logger instance\n",
    "logger = logging.getLogger(__name__)\n",
    "\n",
    "# Log an info message\n",
    "logger.info(\"This is an informational message.\")"
   ]
  },
  {
   "cell_type": "code",
   "execution_count": 0,
   "metadata": {
    "application/vnd.databricks.v1+cell": {
     "cellMetadata": {
      "byteLimit": 2048000,
      "rowLimit": 10000
     },
     "inputWidgets": {},
     "nuid": "e184dc0d-ba9d-4a7b-bbc4-c474e476b44c",
     "showTitle": false,
     "tableResultSettingsMap": {},
     "title": ""
    }
   },
   "outputs": [
    {
     "output_type": "stream",
     "name": "stderr",
     "output_type": "stream",
     "text": [
      "2024-11-12 09:20:31,225 - py4j.clientserver - INFO - Received command c on object id p0\n2024-11-12 09:20:31,237 - __main__ - INFO - This message will be written to the console and to 'app.log'\n"
     ]
    }
   ],
   "source": [
    "# Set up logging configuration to write to a file as well\n",
    "file_handler = logging.FileHandler('app.log')\n",
    "formatter = logging.Formatter('%(asctime)s - %(name)s - %(levelname)s - %(message)s')\n",
    "file_handler.setFormatter(formatter)\n",
    "\n",
    "# Add the file handler to the logger\n",
    "logger.addHandler(file_handler)\n",
    "\n",
    "# Log an informational message\n",
    "logger.info(\"This message will be written to the console and to 'app.log'\")"
   ]
  }
 ],
 "metadata": {
  "application/vnd.databricks.v1+notebook": {
   "dashboards": [],
   "environmentMetadata": null,
   "language": "python",
   "notebookMetadata": {
    "mostRecentlyExecutedCommandWithImplicitDF": {
     "commandId": 1424013147481964,
     "dataframes": [
      "_sqldf"
     ]
    },
    "pythonIndentUnit": 2
   },
   "notebookName": "SQL Date Function",
   "widgets": {}
  }
 },
 "nbformat": 4,
 "nbformat_minor": 0
}
