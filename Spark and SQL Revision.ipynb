{
 "cells": [
  {
   "cell_type": "code",
   "execution_count": 0,
   "metadata": {
    "application/vnd.databricks.v1+cell": {
     "cellMetadata": {
      "byteLimit": 2048000,
      "rowLimit": 10000
     },
     "inputWidgets": {},
     "nuid": "f51c5c52-d7db-4d72-9859-c0005d35243c",
     "showTitle": false,
     "tableResultSettingsMap": {},
     "title": ""
    }
   },
   "outputs": [],
   "source": [
    "data = [(1,\"Shirish\",10000),(2,\"Meguer\",30000),(3,\"Satish\",20000)]\n",
    "myschema = [\"id\",\"name\",\"salary\"]"
   ]
  },
  {
   "cell_type": "code",
   "execution_count": 0,
   "metadata": {
    "application/vnd.databricks.v1+cell": {
     "cellMetadata": {
      "byteLimit": 2048000,
      "rowLimit": 10000
     },
     "inputWidgets": {},
     "nuid": "3f9e13e4-c83f-4f51-9b39-b21ea4139e5b",
     "showTitle": false,
     "tableResultSettingsMap": {},
     "title": ""
    }
   },
   "outputs": [
    {
     "output_type": "display_data",
     "data": {
      "text/html": [
       "<style scoped>\n",
       "  .table-result-container {\n",
       "    max-height: 300px;\n",
       "    overflow: auto;\n",
       "  }\n",
       "  table, th, td {\n",
       "    border: 1px solid black;\n",
       "    border-collapse: collapse;\n",
       "  }\n",
       "  th, td {\n",
       "    padding: 5px;\n",
       "  }\n",
       "  th {\n",
       "    text-align: left;\n",
       "  }\n",
       "</style><div class='table-result-container'><table class='table-result'><thead style='background-color: white'><tr><th>id</th><th>name</th><th>salary</th></tr></thead><tbody><tr><td>1</td><td>Shirish</td><td>10000</td></tr><tr><td>2</td><td>Meguer</td><td>30000</td></tr><tr><td>3</td><td>Satish</td><td>20000</td></tr></tbody></table></div>"
      ]
     },
     "metadata": {
      "application/vnd.databricks.v1+output": {
       "addedWidgets": {},
       "aggData": [],
       "aggError": "",
       "aggOverflow": false,
       "aggSchema": [],
       "aggSeriesLimitReached": false,
       "aggType": "",
       "arguments": {},
       "columnCustomDisplayInfos": {},
       "data": [
        [
         1,
         "Shirish",
         10000
        ],
        [
         2,
         "Meguer",
         30000
        ],
        [
         3,
         "Satish",
         20000
        ]
       ],
       "datasetInfos": [],
       "dbfsResultPath": null,
       "isJsonSchema": true,
       "metadata": {},
       "overflow": false,
       "plotOptions": {
        "customPlotOptions": {},
        "displayType": "table",
        "pivotAggregation": null,
        "pivotColumns": null,
        "xColumns": null,
        "yColumns": null
       },
       "removedWidgets": [],
       "schema": [
        {
         "metadata": "{}",
         "name": "id",
         "type": "\"long\""
        },
        {
         "metadata": "{}",
         "name": "name",
         "type": "\"string\""
        },
        {
         "metadata": "{}",
         "name": "salary",
         "type": "\"long\""
        }
       ],
       "type": "table"
      }
     },
     "output_type": "display_data"
    }
   ],
   "source": [
    "df = spark.createDataFrame(data,myschema)\n",
    "df.display()"
   ]
  },
  {
   "cell_type": "code",
   "execution_count": 0,
   "metadata": {
    "application/vnd.databricks.v1+cell": {
     "cellMetadata": {
      "byteLimit": 2048000,
      "rowLimit": 10000
     },
     "inputWidgets": {},
     "nuid": "36b466c1-f37e-473b-a13e-664a2d882307",
     "showTitle": false,
     "tableResultSettingsMap": {},
     "title": ""
    }
   },
   "outputs": [
    {
     "output_type": "stream",
     "name": "stdout",
     "output_type": "stream",
     "text": [
      "elapsed time: 0.6834274610009743\n"
     ]
    }
   ],
   "source": [
    "import timeit\n",
    "start = timeit.default_timer()\n",
    "df.collect()\n",
    "end=timeit.default_timer()\n",
    "print(\"elapsed time: {}\".format(end-start))"
   ]
  },
  {
   "cell_type": "code",
   "execution_count": 0,
   "metadata": {
    "application/vnd.databricks.v1+cell": {
     "cellMetadata": {
      "byteLimit": 2048000,
      "rowLimit": 10000
     },
     "inputWidgets": {},
     "nuid": "e2b11cc0-e9aa-407f-af40-3a889f30cb27",
     "showTitle": false,
     "tableResultSettingsMap": {},
     "title": ""
    }
   },
   "outputs": [
    {
     "output_type": "stream",
     "name": "stdout",
     "output_type": "stream",
     "text": [
      "Out[6]: DataFrame[id: bigint, name: string, salary: bigint]"
     ]
    }
   ],
   "source": [
    "df.cache()"
   ]
  },
  {
   "cell_type": "code",
   "execution_count": 0,
   "metadata": {
    "application/vnd.databricks.v1+cell": {
     "cellMetadata": {
      "byteLimit": 2048000,
      "rowLimit": 10000
     },
     "inputWidgets": {},
     "nuid": "b09927e1-5317-40ae-badd-497a04b69d44",
     "showTitle": false,
     "tableResultSettingsMap": {},
     "title": ""
    }
   },
   "outputs": [
    {
     "output_type": "stream",
     "name": "stdout",
     "output_type": "stream",
     "text": [
      "elapsed time: 0.38098125199940114\n"
     ]
    }
   ],
   "source": [
    "import timeit\n",
    "start = timeit.default_timer()\n",
    "df.collect()\n",
    "end=timeit.default_timer()\n",
    "print(\"elapsed time: {}\".format(end-start))"
   ]
  },
  {
   "cell_type": "code",
   "execution_count": 0,
   "metadata": {
    "application/vnd.databricks.v1+cell": {
     "cellMetadata": {
      "byteLimit": 2048000,
      "rowLimit": 10000
     },
     "inputWidgets": {},
     "nuid": "e2ddf460-5354-47a4-b748-a5c6094251c7",
     "showTitle": false,
     "tableResultSettingsMap": {},
     "title": ""
    }
   },
   "outputs": [
    {
     "output_type": "stream",
     "name": "stdout",
     "output_type": "stream",
     "text": [
      "Out[8]: DataFrame[id: bigint, name: string, salary: bigint]"
     ]
    }
   ],
   "source": [
    "df.unpersist()"
   ]
  },
  {
   "cell_type": "code",
   "execution_count": 0,
   "metadata": {
    "application/vnd.databricks.v1+cell": {
     "cellMetadata": {
      "byteLimit": 2048000,
      "rowLimit": 10000
     },
     "inputWidgets": {},
     "nuid": "457c0798-22f1-49cf-b5a5-d5a06d203580",
     "showTitle": false,
     "tableResultSettingsMap": {},
     "title": ""
    }
   },
   "outputs": [
    {
     "output_type": "stream",
     "name": "stdout",
     "output_type": "stream",
     "text": [
      "elapsed time: 0.6291176380000252\n"
     ]
    }
   ],
   "source": [
    "import timeit\n",
    "start = timeit.default_timer()\n",
    "df.collect()\n",
    "end=timeit.default_timer()\n",
    "print(\"elapsed time: {}\".format(end-start))"
   ]
  },
  {
   "cell_type": "code",
   "execution_count": 0,
   "metadata": {
    "application/vnd.databricks.v1+cell": {
     "cellMetadata": {
      "byteLimit": 2048000,
      "rowLimit": 10000
     },
     "inputWidgets": {},
     "nuid": "1cd6325c-b751-4d74-84f2-9c1ef0f816d0",
     "showTitle": false,
     "tableResultSettingsMap": {},
     "title": ""
    }
   },
   "outputs": [],
   "source": [
    "data1 = [(1,\"Shirish\",10000),(2,\"Meguer\",30000),(3,\"Satish\",20000),(4,\"Jasmine\",10000),(5,\"Anusha\",30000),(6,\"Venkat\",20000),(7,\"Devashish\",10000),(8,\"Srijana\",30000),(9,\"Prakhyat\",20000),(10,\"Ranju\",1500000)]\n",
    "myschema1 = [\"id\",\"name\",\"salary\"]"
   ]
  },
  {
   "cell_type": "code",
   "execution_count": 0,
   "metadata": {
    "application/vnd.databricks.v1+cell": {
     "cellMetadata": {
      "byteLimit": 2048000,
      "rowLimit": 10000
     },
     "inputWidgets": {},
     "nuid": "b230c0fa-a0dd-45fa-8341-73ecf9546e10",
     "showTitle": false,
     "tableResultSettingsMap": {},
     "title": ""
    }
   },
   "outputs": [
    {
     "output_type": "display_data",
     "data": {
      "text/html": [
       "<style scoped>\n",
       "  .table-result-container {\n",
       "    max-height: 300px;\n",
       "    overflow: auto;\n",
       "  }\n",
       "  table, th, td {\n",
       "    border: 1px solid black;\n",
       "    border-collapse: collapse;\n",
       "  }\n",
       "  th, td {\n",
       "    padding: 5px;\n",
       "  }\n",
       "  th {\n",
       "    text-align: left;\n",
       "  }\n",
       "</style><div class='table-result-container'><table class='table-result'><thead style='background-color: white'><tr><th>id</th><th>name</th><th>salary</th></tr></thead><tbody><tr><td>1</td><td>Shirish</td><td>10000</td></tr><tr><td>2</td><td>Meguer</td><td>30000</td></tr><tr><td>3</td><td>Satish</td><td>20000</td></tr><tr><td>4</td><td>Jasmine</td><td>10000</td></tr><tr><td>5</td><td>Anusha</td><td>30000</td></tr><tr><td>6</td><td>Venkat</td><td>20000</td></tr><tr><td>7</td><td>Devashish</td><td>10000</td></tr><tr><td>8</td><td>Srijana</td><td>30000</td></tr><tr><td>9</td><td>Prakhyat</td><td>20000</td></tr><tr><td>10</td><td>Ranju</td><td>1500000</td></tr></tbody></table></div>"
      ]
     },
     "metadata": {
      "application/vnd.databricks.v1+output": {
       "addedWidgets": {},
       "aggData": [],
       "aggError": "",
       "aggOverflow": false,
       "aggSchema": [],
       "aggSeriesLimitReached": false,
       "aggType": "",
       "arguments": {},
       "columnCustomDisplayInfos": {},
       "data": [
        [
         1,
         "Shirish",
         10000
        ],
        [
         2,
         "Meguer",
         30000
        ],
        [
         3,
         "Satish",
         20000
        ],
        [
         4,
         "Jasmine",
         10000
        ],
        [
         5,
         "Anusha",
         30000
        ],
        [
         6,
         "Venkat",
         20000
        ],
        [
         7,
         "Devashish",
         10000
        ],
        [
         8,
         "Srijana",
         30000
        ],
        [
         9,
         "Prakhyat",
         20000
        ],
        [
         10,
         "Ranju",
         1500000
        ]
       ],
       "datasetInfos": [],
       "dbfsResultPath": null,
       "isJsonSchema": true,
       "metadata": {},
       "overflow": false,
       "plotOptions": {
        "customPlotOptions": {},
        "displayType": "table",
        "pivotAggregation": null,
        "pivotColumns": null,
        "xColumns": null,
        "yColumns": null
       },
       "removedWidgets": [],
       "schema": [
        {
         "metadata": "{}",
         "name": "id",
         "type": "\"long\""
        },
        {
         "metadata": "{}",
         "name": "name",
         "type": "\"string\""
        },
        {
         "metadata": "{}",
         "name": "salary",
         "type": "\"long\""
        }
       ],
       "type": "table"
      }
     },
     "output_type": "display_data"
    }
   ],
   "source": [
    "df2 = spark.createDataFrame(data1,myschema1)\n",
    "df2.display()"
   ]
  },
  {
   "cell_type": "markdown",
   "metadata": {
    "application/vnd.databricks.v1+cell": {
     "cellMetadata": {},
     "inputWidgets": {},
     "nuid": "f4ff202b-8785-44ee-a655-e943abe6f047",
     "showTitle": false,
     "tableResultSettingsMap": {},
     "title": ""
    }
   },
   "source": [
    "Return all employees having second highest salary"
   ]
  },
  {
   "cell_type": "code",
   "execution_count": 0,
   "metadata": {
    "application/vnd.databricks.v1+cell": {
     "cellMetadata": {
      "byteLimit": 2048000,
      "rowLimit": 10000
     },
     "inputWidgets": {},
     "nuid": "c609a89c-e1b4-4527-9464-f3591b352853",
     "showTitle": false,
     "tableResultSettingsMap": {},
     "title": ""
    }
   },
   "outputs": [
    {
     "output_type": "stream",
     "name": "stdout",
     "output_type": "stream",
     "text": [
      "+---+-------+------+\n| ID|   Name|Salary|\n+---+-------+------+\n|  2| Meguer| 30000|\n|  5| Anusha| 30000|\n|  8|Srijana| 30000|\n+---+-------+------+\n\n"
     ]
    }
   ],
   "source": [
    "df2.createOrReplaceTempView(\"employees\")\n",
    "\n",
    "query = \"\"\"\n",
    "SELECT ID, Name, Salary\n",
    "FROM (\n",
    "    SELECT ID, Name, Salary, DENSE_RANK() OVER (ORDER BY Salary DESC) AS rank\n",
    "    FROM employees\n",
    ") ranked\n",
    "WHERE rank = 2\n",
    "\"\"\"\n",
    "\n",
    "second_highest_salary_sql = spark.sql(query)\n",
    "\n",
    "second_highest_salary_sql.show()"
   ]
  },
  {
   "cell_type": "code",
   "execution_count": 0,
   "metadata": {
    "application/vnd.databricks.v1+cell": {
     "cellMetadata": {
      "byteLimit": 2048000,
      "rowLimit": 10000
     },
     "inputWidgets": {},
     "nuid": "4edfded9-c924-4714-af36-7a1009f66bfe",
     "showTitle": false,
     "tableResultSettingsMap": {},
     "title": ""
    }
   },
   "outputs": [
    {
     "output_type": "stream",
     "name": "stdout",
     "output_type": "stream",
     "text": [
      "+---+-------+------+----+\n| id|   name|salary|rank|\n+---+-------+------+----+\n|  2| Meguer| 30000|   2|\n|  5| Anusha| 30000|   2|\n|  8|Srijana| 30000|   2|\n+---+-------+------+----+\n\n"
     ]
    }
   ],
   "source": [
    "from pyspark.sql.functions import col, dense_rank\n",
    "from pyspark.sql.window import Window\n",
    "\n",
    "window_spec = Window.orderBy(col(\"salary\").desc())\n",
    "\n",
    "df_with_rank = df2.withColumn(\"rank\", dense_rank().over(window_spec))\n",
    "\n",
    "second_highest_salary = df_with_rank.filter(col(\"rank\") == 2)\n",
    "\n",
    "second_highest_salary.show()"
   ]
  }
 ],
 "metadata": {
  "application/vnd.databricks.v1+notebook": {
   "computePreferences": null,
   "dashboards": [],
   "environmentMetadata": {
    "base_environment": "",
    "client": "1"
   },
   "language": "python",
   "notebookMetadata": {
    "pythonIndentUnit": 4
   },
   "notebookName": "Spark and SQL Revision",
   "widgets": {}
  }
 },
 "nbformat": 4,
 "nbformat_minor": 0
}
